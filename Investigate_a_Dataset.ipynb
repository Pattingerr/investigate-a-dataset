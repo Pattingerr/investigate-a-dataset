{
 "cells": [
  {
   "cell_type": "markdown",
   "metadata": {},
   "source": [
    "# Project: Investigate a Dataset (Replace this with something more specific!)\n",
    "\n",
    "## Table of Contents\n",
    "<ul>\n",
    "<li><a href=\"#intro\">Introduction</a></li>\n",
    "<li><a href=\"#wrangling\">Data Wrangling</a></li>\n",
    "<li><a href=\"#eda\">Exploratory Data Analysis</a></li>\n",
    "<li><a href=\"#conclusions\">Conclusions</a></li>\n",
    "</ul>"
   ]
  },
  {
   "cell_type": "markdown",
   "metadata": {},
   "source": [
    "<a id='intro'></a>\n",
    "## Introduction\n",
    "\n",
    "As a football fan i selected the soccer database from Kaggle. It contains data for football matches, players and teams from several European countries from 2008-2016. I decided to take a closer look at the team and player databases. Therefor i asked myself the following questions:\n",
    "\n",
    "\n",
    "> Questions: \n",
    "1. Who are the players with an overall rating above 90? \n",
    "2. Who is the fastest player?\n",
    "3. Do right or left feet players have the higher overall rating in the last existing data record?\n",
    "4. Who is the highest and smallest player?\n",
    "5. Who is the heaviest and lightest player?\n",
    "6. Who is the player with the longest name?\n",
    "7. Which team has the best increase in speed overall?"
   ]
  },
  {
   "cell_type": "markdown",
   "metadata": {},
   "source": [
    "### SQL Preperation\n",
    "\n",
    "The European football database was stored in a SQLite database.<br>\n",
    "I used the software 'DB Browser for SQLite' and the following SQL statements to extract the datasets I needed:<p>\n",
    "\n",
    "<b>Players</b><p>\n",
    "The player database has been joined with the player attributes database<p>\n",
    "\n",
    "\n",
    "    SELECT *\n",
    "    FROM Player_Attributes pa\n",
    "    JOIN Player p\n",
    "    ON p.player_api_id = pa.player_api_id;\n",
    "    \n",
    "<b>Teams</b><p>\n",
    "The team database has been joined with the team attributes database<p>\n",
    "\n",
    "    SELECT *\n",
    "    FROM Team t\n",
    "    JOIN Team_Attributes ta\n",
    "    ON ta.team_api_id = t.team_api_id;"
   ]
  },
  {
   "cell_type": "code",
   "execution_count": 94,
   "metadata": {},
   "outputs": [],
   "source": [
    "# Import statement for packages needed in this project\n",
    "import pandas as pd\n",
    "import numpy as np\n",
    "import matplotlib.pyplot as plt\n",
    "from datetime import datetime as dt\n",
    "import calendar\n",
    "% matplotlib inline"
   ]
  },
  {
   "cell_type": "markdown",
   "metadata": {},
   "source": [
    "<a id='wrangling'></a>\n",
    "## Data Wrangling\n",
    "\n",
    "\n",
    "### General Properties"
   ]
  },
  {
   "cell_type": "code",
   "execution_count": 95,
   "metadata": {},
   "outputs": [],
   "source": [
    "# Import datasets and use ';' as seperator, as there are some rows with ',' in it\n",
    "\n",
    "df_p = pd.read_csv('football_player_attributes.csv',index_col='id', sep=';')\n",
    "df_t = pd.read_csv('football_team_attributes.csv', index_col='id', sep=';')"
   ]
  },
  {
   "cell_type": "code",
   "execution_count": 96,
   "metadata": {},
   "outputs": [
    {
     "data": {
      "text/html": [
       "<div>\n",
       "<style>\n",
       "    .dataframe thead tr:only-child th {\n",
       "        text-align: right;\n",
       "    }\n",
       "\n",
       "    .dataframe thead th {\n",
       "        text-align: left;\n",
       "    }\n",
       "\n",
       "    .dataframe tbody tr th {\n",
       "        vertical-align: top;\n",
       "    }\n",
       "</style>\n",
       "<table border=\"1\" class=\"dataframe\">\n",
       "  <thead>\n",
       "    <tr style=\"text-align: right;\">\n",
       "      <th></th>\n",
       "      <th>player_fifa_api_id</th>\n",
       "      <th>player_api_id</th>\n",
       "      <th>date</th>\n",
       "      <th>overall_rating</th>\n",
       "      <th>potential</th>\n",
       "      <th>preferred_foot</th>\n",
       "      <th>attacking_work_rate</th>\n",
       "      <th>defensive_work_rate</th>\n",
       "      <th>crossing</th>\n",
       "      <th>finishing</th>\n",
       "      <th>...</th>\n",
       "      <th>gk_kicking</th>\n",
       "      <th>gk_positioning</th>\n",
       "      <th>gk_reflexes</th>\n",
       "      <th>id.1</th>\n",
       "      <th>player_api_id.1</th>\n",
       "      <th>player_name</th>\n",
       "      <th>player_fifa_api_id.1</th>\n",
       "      <th>birthday</th>\n",
       "      <th>height</th>\n",
       "      <th>weight</th>\n",
       "    </tr>\n",
       "    <tr>\n",
       "      <th>id</th>\n",
       "      <th></th>\n",
       "      <th></th>\n",
       "      <th></th>\n",
       "      <th></th>\n",
       "      <th></th>\n",
       "      <th></th>\n",
       "      <th></th>\n",
       "      <th></th>\n",
       "      <th></th>\n",
       "      <th></th>\n",
       "      <th></th>\n",
       "      <th></th>\n",
       "      <th></th>\n",
       "      <th></th>\n",
       "      <th></th>\n",
       "      <th></th>\n",
       "      <th></th>\n",
       "      <th></th>\n",
       "      <th></th>\n",
       "      <th></th>\n",
       "      <th></th>\n",
       "    </tr>\n",
       "  </thead>\n",
       "  <tbody>\n",
       "    <tr>\n",
       "      <th>1</th>\n",
       "      <td>218353</td>\n",
       "      <td>505942</td>\n",
       "      <td>2016-02-18 00:00:00</td>\n",
       "      <td>67.0</td>\n",
       "      <td>71.0</td>\n",
       "      <td>right</td>\n",
       "      <td>medium</td>\n",
       "      <td>medium</td>\n",
       "      <td>49.0</td>\n",
       "      <td>44.0</td>\n",
       "      <td>...</td>\n",
       "      <td>10.0</td>\n",
       "      <td>8.0</td>\n",
       "      <td>8.0</td>\n",
       "      <td>1</td>\n",
       "      <td>505942</td>\n",
       "      <td>Aaron Appindangoye</td>\n",
       "      <td>218353</td>\n",
       "      <td>1992-02-29 00:00:00</td>\n",
       "      <td>182.88</td>\n",
       "      <td>187</td>\n",
       "    </tr>\n",
       "    <tr>\n",
       "      <th>2</th>\n",
       "      <td>218353</td>\n",
       "      <td>505942</td>\n",
       "      <td>2015-11-19 00:00:00</td>\n",
       "      <td>67.0</td>\n",
       "      <td>71.0</td>\n",
       "      <td>right</td>\n",
       "      <td>medium</td>\n",
       "      <td>medium</td>\n",
       "      <td>49.0</td>\n",
       "      <td>44.0</td>\n",
       "      <td>...</td>\n",
       "      <td>10.0</td>\n",
       "      <td>8.0</td>\n",
       "      <td>8.0</td>\n",
       "      <td>1</td>\n",
       "      <td>505942</td>\n",
       "      <td>Aaron Appindangoye</td>\n",
       "      <td>218353</td>\n",
       "      <td>1992-02-29 00:00:00</td>\n",
       "      <td>182.88</td>\n",
       "      <td>187</td>\n",
       "    </tr>\n",
       "    <tr>\n",
       "      <th>3</th>\n",
       "      <td>218353</td>\n",
       "      <td>505942</td>\n",
       "      <td>2015-09-21 00:00:00</td>\n",
       "      <td>62.0</td>\n",
       "      <td>66.0</td>\n",
       "      <td>right</td>\n",
       "      <td>medium</td>\n",
       "      <td>medium</td>\n",
       "      <td>49.0</td>\n",
       "      <td>44.0</td>\n",
       "      <td>...</td>\n",
       "      <td>10.0</td>\n",
       "      <td>8.0</td>\n",
       "      <td>8.0</td>\n",
       "      <td>1</td>\n",
       "      <td>505942</td>\n",
       "      <td>Aaron Appindangoye</td>\n",
       "      <td>218353</td>\n",
       "      <td>1992-02-29 00:00:00</td>\n",
       "      <td>182.88</td>\n",
       "      <td>187</td>\n",
       "    </tr>\n",
       "    <tr>\n",
       "      <th>4</th>\n",
       "      <td>218353</td>\n",
       "      <td>505942</td>\n",
       "      <td>2015-03-20 00:00:00</td>\n",
       "      <td>61.0</td>\n",
       "      <td>65.0</td>\n",
       "      <td>right</td>\n",
       "      <td>medium</td>\n",
       "      <td>medium</td>\n",
       "      <td>48.0</td>\n",
       "      <td>43.0</td>\n",
       "      <td>...</td>\n",
       "      <td>9.0</td>\n",
       "      <td>7.0</td>\n",
       "      <td>7.0</td>\n",
       "      <td>1</td>\n",
       "      <td>505942</td>\n",
       "      <td>Aaron Appindangoye</td>\n",
       "      <td>218353</td>\n",
       "      <td>1992-02-29 00:00:00</td>\n",
       "      <td>182.88</td>\n",
       "      <td>187</td>\n",
       "    </tr>\n",
       "    <tr>\n",
       "      <th>5</th>\n",
       "      <td>218353</td>\n",
       "      <td>505942</td>\n",
       "      <td>2007-02-22 00:00:00</td>\n",
       "      <td>61.0</td>\n",
       "      <td>65.0</td>\n",
       "      <td>right</td>\n",
       "      <td>medium</td>\n",
       "      <td>medium</td>\n",
       "      <td>48.0</td>\n",
       "      <td>43.0</td>\n",
       "      <td>...</td>\n",
       "      <td>9.0</td>\n",
       "      <td>7.0</td>\n",
       "      <td>7.0</td>\n",
       "      <td>1</td>\n",
       "      <td>505942</td>\n",
       "      <td>Aaron Appindangoye</td>\n",
       "      <td>218353</td>\n",
       "      <td>1992-02-29 00:00:00</td>\n",
       "      <td>182.88</td>\n",
       "      <td>187</td>\n",
       "    </tr>\n",
       "  </tbody>\n",
       "</table>\n",
       "<p>5 rows × 48 columns</p>\n",
       "</div>"
      ],
      "text/plain": [
       "    player_fifa_api_id  player_api_id                 date  overall_rating  \\\n",
       "id                                                                           \n",
       "1               218353         505942  2016-02-18 00:00:00            67.0   \n",
       "2               218353         505942  2015-11-19 00:00:00            67.0   \n",
       "3               218353         505942  2015-09-21 00:00:00            62.0   \n",
       "4               218353         505942  2015-03-20 00:00:00            61.0   \n",
       "5               218353         505942  2007-02-22 00:00:00            61.0   \n",
       "\n",
       "    potential preferred_foot attacking_work_rate defensive_work_rate  \\\n",
       "id                                                                     \n",
       "1        71.0          right              medium              medium   \n",
       "2        71.0          right              medium              medium   \n",
       "3        66.0          right              medium              medium   \n",
       "4        65.0          right              medium              medium   \n",
       "5        65.0          right              medium              medium   \n",
       "\n",
       "    crossing  finishing   ...    gk_kicking  gk_positioning  gk_reflexes  \\\n",
       "id                        ...                                              \n",
       "1       49.0       44.0   ...          10.0             8.0          8.0   \n",
       "2       49.0       44.0   ...          10.0             8.0          8.0   \n",
       "3       49.0       44.0   ...          10.0             8.0          8.0   \n",
       "4       48.0       43.0   ...           9.0             7.0          7.0   \n",
       "5       48.0       43.0   ...           9.0             7.0          7.0   \n",
       "\n",
       "    id.1  player_api_id.1         player_name  player_fifa_api_id.1  \\\n",
       "id                                                                    \n",
       "1      1           505942  Aaron Appindangoye                218353   \n",
       "2      1           505942  Aaron Appindangoye                218353   \n",
       "3      1           505942  Aaron Appindangoye                218353   \n",
       "4      1           505942  Aaron Appindangoye                218353   \n",
       "5      1           505942  Aaron Appindangoye                218353   \n",
       "\n",
       "               birthday  height  weight  \n",
       "id                                       \n",
       "1   1992-02-29 00:00:00  182.88     187  \n",
       "2   1992-02-29 00:00:00  182.88     187  \n",
       "3   1992-02-29 00:00:00  182.88     187  \n",
       "4   1992-02-29 00:00:00  182.88     187  \n",
       "5   1992-02-29 00:00:00  182.88     187  \n",
       "\n",
       "[5 rows x 48 columns]"
      ]
     },
     "execution_count": 96,
     "metadata": {},
     "output_type": "execute_result"
    }
   ],
   "source": [
    "# view first lines of players \n",
    "df_p.head()"
   ]
  },
  {
   "cell_type": "code",
   "execution_count": 97,
   "metadata": {
    "scrolled": true
   },
   "outputs": [
    {
     "data": {
      "text/html": [
       "<div>\n",
       "<style>\n",
       "    .dataframe thead tr:only-child th {\n",
       "        text-align: right;\n",
       "    }\n",
       "\n",
       "    .dataframe thead th {\n",
       "        text-align: left;\n",
       "    }\n",
       "\n",
       "    .dataframe tbody tr th {\n",
       "        vertical-align: top;\n",
       "    }\n",
       "</style>\n",
       "<table border=\"1\" class=\"dataframe\">\n",
       "  <thead>\n",
       "    <tr style=\"text-align: right;\">\n",
       "      <th></th>\n",
       "      <th>team_api_id</th>\n",
       "      <th>team_fifa_api_id</th>\n",
       "      <th>team_long_name</th>\n",
       "      <th>team_short_name</th>\n",
       "      <th>id.1</th>\n",
       "      <th>team_fifa_api_id.1</th>\n",
       "      <th>team_api_id.1</th>\n",
       "      <th>date</th>\n",
       "      <th>buildUpPlaySpeed</th>\n",
       "      <th>buildUpPlaySpeedClass</th>\n",
       "      <th>...</th>\n",
       "      <th>chanceCreationShooting</th>\n",
       "      <th>chanceCreationShootingClass</th>\n",
       "      <th>chanceCreationPositioningClass</th>\n",
       "      <th>defencePressure</th>\n",
       "      <th>defencePressureClass</th>\n",
       "      <th>defenceAggression</th>\n",
       "      <th>defenceAggressionClass</th>\n",
       "      <th>defenceTeamWidth</th>\n",
       "      <th>defenceTeamWidthClass</th>\n",
       "      <th>defenceDefenderLineClass</th>\n",
       "    </tr>\n",
       "    <tr>\n",
       "      <th>id</th>\n",
       "      <th></th>\n",
       "      <th></th>\n",
       "      <th></th>\n",
       "      <th></th>\n",
       "      <th></th>\n",
       "      <th></th>\n",
       "      <th></th>\n",
       "      <th></th>\n",
       "      <th></th>\n",
       "      <th></th>\n",
       "      <th></th>\n",
       "      <th></th>\n",
       "      <th></th>\n",
       "      <th></th>\n",
       "      <th></th>\n",
       "      <th></th>\n",
       "      <th></th>\n",
       "      <th></th>\n",
       "      <th></th>\n",
       "      <th></th>\n",
       "      <th></th>\n",
       "    </tr>\n",
       "  </thead>\n",
       "  <tbody>\n",
       "    <tr>\n",
       "      <th>49119</th>\n",
       "      <td>9930</td>\n",
       "      <td>434</td>\n",
       "      <td>FC Aarau</td>\n",
       "      <td>AAR</td>\n",
       "      <td>1</td>\n",
       "      <td>434</td>\n",
       "      <td>9930</td>\n",
       "      <td>2010-02-22 00:00:00</td>\n",
       "      <td>60</td>\n",
       "      <td>Balanced</td>\n",
       "      <td>...</td>\n",
       "      <td>55</td>\n",
       "      <td>Normal</td>\n",
       "      <td>Organised</td>\n",
       "      <td>50</td>\n",
       "      <td>Medium</td>\n",
       "      <td>55</td>\n",
       "      <td>Press</td>\n",
       "      <td>45</td>\n",
       "      <td>Normal</td>\n",
       "      <td>Cover</td>\n",
       "    </tr>\n",
       "    <tr>\n",
       "      <th>49119</th>\n",
       "      <td>9930</td>\n",
       "      <td>434</td>\n",
       "      <td>FC Aarau</td>\n",
       "      <td>AAR</td>\n",
       "      <td>2</td>\n",
       "      <td>434</td>\n",
       "      <td>9930</td>\n",
       "      <td>2014-09-19 00:00:00</td>\n",
       "      <td>52</td>\n",
       "      <td>Balanced</td>\n",
       "      <td>...</td>\n",
       "      <td>64</td>\n",
       "      <td>Normal</td>\n",
       "      <td>Organised</td>\n",
       "      <td>47</td>\n",
       "      <td>Medium</td>\n",
       "      <td>44</td>\n",
       "      <td>Press</td>\n",
       "      <td>54</td>\n",
       "      <td>Normal</td>\n",
       "      <td>Cover</td>\n",
       "    </tr>\n",
       "    <tr>\n",
       "      <th>49119</th>\n",
       "      <td>9930</td>\n",
       "      <td>434</td>\n",
       "      <td>FC Aarau</td>\n",
       "      <td>AAR</td>\n",
       "      <td>3</td>\n",
       "      <td>434</td>\n",
       "      <td>9930</td>\n",
       "      <td>2015-09-10 00:00:00</td>\n",
       "      <td>47</td>\n",
       "      <td>Balanced</td>\n",
       "      <td>...</td>\n",
       "      <td>64</td>\n",
       "      <td>Normal</td>\n",
       "      <td>Organised</td>\n",
       "      <td>47</td>\n",
       "      <td>Medium</td>\n",
       "      <td>44</td>\n",
       "      <td>Press</td>\n",
       "      <td>54</td>\n",
       "      <td>Normal</td>\n",
       "      <td>Cover</td>\n",
       "    </tr>\n",
       "    <tr>\n",
       "      <th>39393</th>\n",
       "      <td>8485</td>\n",
       "      <td>77</td>\n",
       "      <td>Aberdeen</td>\n",
       "      <td>ABE</td>\n",
       "      <td>4</td>\n",
       "      <td>77</td>\n",
       "      <td>8485</td>\n",
       "      <td>2010-02-22 00:00:00</td>\n",
       "      <td>70</td>\n",
       "      <td>Fast</td>\n",
       "      <td>...</td>\n",
       "      <td>70</td>\n",
       "      <td>Lots</td>\n",
       "      <td>Organised</td>\n",
       "      <td>60</td>\n",
       "      <td>Medium</td>\n",
       "      <td>70</td>\n",
       "      <td>Double</td>\n",
       "      <td>70</td>\n",
       "      <td>Wide</td>\n",
       "      <td>Cover</td>\n",
       "    </tr>\n",
       "    <tr>\n",
       "      <th>39393</th>\n",
       "      <td>8485</td>\n",
       "      <td>77</td>\n",
       "      <td>Aberdeen</td>\n",
       "      <td>ABE</td>\n",
       "      <td>5</td>\n",
       "      <td>77</td>\n",
       "      <td>8485</td>\n",
       "      <td>2011-02-22 00:00:00</td>\n",
       "      <td>47</td>\n",
       "      <td>Balanced</td>\n",
       "      <td>...</td>\n",
       "      <td>52</td>\n",
       "      <td>Normal</td>\n",
       "      <td>Organised</td>\n",
       "      <td>47</td>\n",
       "      <td>Medium</td>\n",
       "      <td>47</td>\n",
       "      <td>Press</td>\n",
       "      <td>52</td>\n",
       "      <td>Normal</td>\n",
       "      <td>Cover</td>\n",
       "    </tr>\n",
       "  </tbody>\n",
       "</table>\n",
       "<p>5 rows × 29 columns</p>\n",
       "</div>"
      ],
      "text/plain": [
       "       team_api_id  team_fifa_api_id team_long_name team_short_name  id.1  \\\n",
       "id                                                                          \n",
       "49119         9930               434       FC Aarau             AAR     1   \n",
       "49119         9930               434       FC Aarau             AAR     2   \n",
       "49119         9930               434       FC Aarau             AAR     3   \n",
       "39393         8485                77       Aberdeen             ABE     4   \n",
       "39393         8485                77       Aberdeen             ABE     5   \n",
       "\n",
       "       team_fifa_api_id.1  team_api_id.1                 date  \\\n",
       "id                                                              \n",
       "49119                 434           9930  2010-02-22 00:00:00   \n",
       "49119                 434           9930  2014-09-19 00:00:00   \n",
       "49119                 434           9930  2015-09-10 00:00:00   \n",
       "39393                  77           8485  2010-02-22 00:00:00   \n",
       "39393                  77           8485  2011-02-22 00:00:00   \n",
       "\n",
       "       buildUpPlaySpeed buildUpPlaySpeedClass            ...             \\\n",
       "id                                                       ...              \n",
       "49119                60              Balanced            ...              \n",
       "49119                52              Balanced            ...              \n",
       "49119                47              Balanced            ...              \n",
       "39393                70                  Fast            ...              \n",
       "39393                47              Balanced            ...              \n",
       "\n",
       "       chanceCreationShooting chanceCreationShootingClass  \\\n",
       "id                                                          \n",
       "49119                      55                      Normal   \n",
       "49119                      64                      Normal   \n",
       "49119                      64                      Normal   \n",
       "39393                      70                        Lots   \n",
       "39393                      52                      Normal   \n",
       "\n",
       "       chanceCreationPositioningClass defencePressure defencePressureClass  \\\n",
       "id                                                                           \n",
       "49119                       Organised              50               Medium   \n",
       "49119                       Organised              47               Medium   \n",
       "49119                       Organised              47               Medium   \n",
       "39393                       Organised              60               Medium   \n",
       "39393                       Organised              47               Medium   \n",
       "\n",
       "       defenceAggression defenceAggressionClass  defenceTeamWidth  \\\n",
       "id                                                                  \n",
       "49119                 55                  Press                45   \n",
       "49119                 44                  Press                54   \n",
       "49119                 44                  Press                54   \n",
       "39393                 70                 Double                70   \n",
       "39393                 47                  Press                52   \n",
       "\n",
       "      defenceTeamWidthClass  defenceDefenderLineClass  \n",
       "id                                                     \n",
       "49119                Normal                     Cover  \n",
       "49119                Normal                     Cover  \n",
       "49119                Normal                     Cover  \n",
       "39393                  Wide                     Cover  \n",
       "39393                Normal                     Cover  \n",
       "\n",
       "[5 rows x 29 columns]"
      ]
     },
     "execution_count": 97,
     "metadata": {},
     "output_type": "execute_result"
    }
   ],
   "source": [
    "# view first lines of teams\n",
    "df_t.head()"
   ]
  },
  {
   "cell_type": "code",
   "execution_count": 98,
   "metadata": {},
   "outputs": [
    {
     "data": {
      "text/plain": [
       "((183978, 48), (1458, 29))"
      ]
     },
     "execution_count": 98,
     "metadata": {},
     "output_type": "execute_result"
    }
   ],
   "source": [
    "# show the shape of each dataset\n",
    "df_p.shape, df_t.shape"
   ]
  },
  {
   "cell_type": "markdown",
   "metadata": {},
   "source": [
    "The player dataset has 183978 rows and 48 columns.<br>\n",
    "The team dataset has 1458 rows and 29 columns."
   ]
  },
  {
   "cell_type": "code",
   "execution_count": 99,
   "metadata": {},
   "outputs": [
    {
     "name": "stdout",
     "output_type": "stream",
     "text": [
      "<class 'pandas.core.frame.DataFrame'>\n",
      "Int64Index: 183978 entries, 1 to 183978\n",
      "Data columns (total 48 columns):\n",
      "player_fifa_api_id      183978 non-null int64\n",
      "player_api_id           183978 non-null int64\n",
      "date                    183978 non-null object\n",
      "overall_rating          183142 non-null float64\n",
      "potential               183142 non-null float64\n",
      "preferred_foot          183142 non-null object\n",
      "attacking_work_rate     180748 non-null object\n",
      "defensive_work_rate     183142 non-null object\n",
      "crossing                183142 non-null float64\n",
      "finishing               183142 non-null float64\n",
      "heading_accuracy        183142 non-null float64\n",
      "short_passing           183142 non-null float64\n",
      "volleys                 181265 non-null float64\n",
      "dribbling               183142 non-null float64\n",
      "curve                   181265 non-null float64\n",
      "free_kick_accuracy      183142 non-null float64\n",
      "long_passing            183142 non-null float64\n",
      "ball_control            183142 non-null float64\n",
      "acceleration            183142 non-null float64\n",
      "sprint_speed            183142 non-null float64\n",
      "agility                 181265 non-null float64\n",
      "reactions               183142 non-null float64\n",
      "balance                 181265 non-null float64\n",
      "shot_power              183142 non-null float64\n",
      "jumping                 181265 non-null float64\n",
      "stamina                 183142 non-null float64\n",
      "strength                183142 non-null float64\n",
      "long_shots              183142 non-null float64\n",
      "aggression              183142 non-null float64\n",
      "interceptions           183142 non-null float64\n",
      "positioning             183142 non-null float64\n",
      "vision                  181265 non-null float64\n",
      "penalties               183142 non-null float64\n",
      "marking                 183142 non-null float64\n",
      "standing_tackle         183142 non-null float64\n",
      "sliding_tackle          181265 non-null float64\n",
      "gk_diving               183142 non-null float64\n",
      "gk_handling             183142 non-null float64\n",
      "gk_kicking              183142 non-null float64\n",
      "gk_positioning          183142 non-null float64\n",
      "gk_reflexes             183142 non-null float64\n",
      "id.1                    183978 non-null int64\n",
      "player_api_id.1         183978 non-null int64\n",
      "player_name             183978 non-null object\n",
      "player_fifa_api_id.1    183978 non-null int64\n",
      "birthday                183978 non-null object\n",
      "height                  183978 non-null float64\n",
      "weight                  183978 non-null int64\n",
      "dtypes: float64(36), int64(6), object(6)\n",
      "memory usage: 68.8+ MB\n"
     ]
    }
   ],
   "source": [
    "# number of samples and data types in the player dataset\n",
    "df_p.info()"
   ]
  },
  {
   "cell_type": "markdown",
   "metadata": {},
   "source": [
    "You can see that there are a lot of rows without values. The empty rows will be removed later."
   ]
  },
  {
   "cell_type": "code",
   "execution_count": 100,
   "metadata": {},
   "outputs": [
    {
     "name": "stdout",
     "output_type": "stream",
     "text": [
      "<class 'pandas.core.frame.DataFrame'>\n",
      "Int64Index: 1458 entries, 49119 to 3\n",
      "Data columns (total 29 columns):\n",
      "team_api_id                       1458 non-null int64\n",
      "team_fifa_api_id                  1458 non-null int64\n",
      "team_long_name                    1458 non-null object\n",
      "team_short_name                   1458 non-null object\n",
      "id.1                              1458 non-null int64\n",
      "team_fifa_api_id.1                1458 non-null int64\n",
      "team_api_id.1                     1458 non-null int64\n",
      "date                              1458 non-null object\n",
      "buildUpPlaySpeed                  1458 non-null int64\n",
      "buildUpPlaySpeedClass             1458 non-null object\n",
      "buildUpPlayDribbling              489 non-null float64\n",
      "buildUpPlayDribblingClass         1458 non-null object\n",
      "buildUpPlayPassing                1458 non-null int64\n",
      "buildUpPlayPassingClass           1458 non-null object\n",
      "buildUpPlayPositioningClass       1458 non-null object\n",
      "chanceCreationPassing             1458 non-null int64\n",
      "chanceCreationPassingClass        1458 non-null object\n",
      "chanceCreationCrossing            1458 non-null int64\n",
      "chanceCreationCrossingClass       1458 non-null object\n",
      "chanceCreationShooting            1458 non-null int64\n",
      "chanceCreationShootingClass       1458 non-null object\n",
      "chanceCreationPositioningClass    1458 non-null object\n",
      "defencePressure                   1458 non-null int64\n",
      "defencePressureClass              1458 non-null object\n",
      "defenceAggression                 1458 non-null int64\n",
      "defenceAggressionClass            1458 non-null object\n",
      "defenceTeamWidth                  1458 non-null int64\n",
      "defenceTeamWidthClass             1458 non-null object\n",
      "defenceDefenderLineClass          1458 non-null object\n",
      "dtypes: float64(1), int64(13), object(15)\n",
      "memory usage: 341.7+ KB\n"
     ]
    }
   ],
   "source": [
    "# number of samples and data types in the team dataset\n",
    "df_t.info()"
   ]
  },
  {
   "cell_type": "markdown",
   "metadata": {},
   "source": [
    "There is only one row with missing values.<br> \n",
    "The row is buildUpPlayPassing. This empty rows will be removed later."
   ]
  },
  {
   "cell_type": "code",
   "execution_count": 101,
   "metadata": {},
   "outputs": [
    {
     "data": {
      "text/plain": [
       "1"
      ]
     },
     "execution_count": 101,
     "metadata": {},
     "output_type": "execute_result"
    }
   ],
   "source": [
    "# sum of duplicates in the player dataset\n",
    "sum(df_p.duplicated())"
   ]
  },
  {
   "cell_type": "markdown",
   "metadata": {},
   "source": [
    "There is only 1 duplicated row in the player dataset. This duplicate will be removed later."
   ]
  },
  {
   "cell_type": "code",
   "execution_count": 102,
   "metadata": {},
   "outputs": [
    {
     "data": {
      "text/plain": [
       "0"
      ]
     },
     "execution_count": 102,
     "metadata": {},
     "output_type": "execute_result"
    }
   ],
   "source": [
    "# sum of duplicates in the team dataset\n",
    "sum(df_t.duplicated())"
   ]
  },
  {
   "cell_type": "markdown",
   "metadata": {},
   "source": [
    "There are 0 duplicares in the player dataset."
   ]
  },
  {
   "cell_type": "code",
   "execution_count": 103,
   "metadata": {},
   "outputs": [
    {
     "data": {
      "text/plain": [
       "Index(['overall_rating', 'potential', 'preferred_foot', 'attacking_work_rate',\n",
       "       'defensive_work_rate', 'crossing', 'finishing', 'heading_accuracy',\n",
       "       'short_passing', 'volleys', 'dribbling', 'curve', 'free_kick_accuracy',\n",
       "       'long_passing', 'ball_control', 'acceleration', 'sprint_speed',\n",
       "       'agility', 'reactions', 'balance', 'shot_power', 'jumping', 'stamina',\n",
       "       'strength', 'long_shots', 'aggression', 'interceptions', 'positioning',\n",
       "       'vision', 'penalties', 'marking', 'standing_tackle', 'sliding_tackle',\n",
       "       'gk_diving', 'gk_handling', 'gk_kicking', 'gk_positioning',\n",
       "       'gk_reflexes'],\n",
       "      dtype='object')"
      ]
     },
     "execution_count": 103,
     "metadata": {},
     "output_type": "execute_result"
    }
   ],
   "source": [
    "# show columns with null values in player dataset\n",
    "df_p.columns[df_p.isnull().any()]"
   ]
  },
  {
   "cell_type": "markdown",
   "metadata": {},
   "source": [
    "Showing the columns with missing data."
   ]
  },
  {
   "cell_type": "code",
   "execution_count": 104,
   "metadata": {},
   "outputs": [
    {
     "data": {
      "text/plain": [
       "Index(['buildUpPlayDribbling'], dtype='object')"
      ]
     },
     "execution_count": 104,
     "metadata": {},
     "output_type": "execute_result"
    }
   ],
   "source": [
    "# show columns with null values in team dataset\n",
    "df_t.columns[df_t.isnull().any()]"
   ]
  },
  {
   "cell_type": "markdown",
   "metadata": {},
   "source": [
    "There is only 1 column with missing values."
   ]
  },
  {
   "cell_type": "code",
   "execution_count": 105,
   "metadata": {},
   "outputs": [
    {
     "data": {
      "text/plain": [
       "11060"
      ]
     },
     "execution_count": 105,
     "metadata": {},
     "output_type": "execute_result"
    }
   ],
   "source": [
    "#count of unique players\n",
    "df_p['player_api_id'].nunique()"
   ]
  },
  {
   "cell_type": "markdown",
   "metadata": {},
   "source": [
    "There are 11060 unique players in the player dataset"
   ]
  },
  {
   "cell_type": "code",
   "execution_count": 106,
   "metadata": {},
   "outputs": [
    {
     "data": {
      "text/plain": [
       "288"
      ]
     },
     "execution_count": 106,
     "metadata": {},
     "output_type": "execute_result"
    }
   ],
   "source": [
    "#count of unique teams\n",
    "df_t['team_api_id'].nunique()"
   ]
  },
  {
   "cell_type": "markdown",
   "metadata": {},
   "source": [
    "There are 288 unique teams in the team dataset"
   ]
  },
  {
   "cell_type": "markdown",
   "metadata": {},
   "source": [
    "### Data Cleaning"
   ]
  },
  {
   "cell_type": "code",
   "execution_count": 107,
   "metadata": {},
   "outputs": [
    {
     "data": {
      "text/html": [
       "<div>\n",
       "<style>\n",
       "    .dataframe thead tr:only-child th {\n",
       "        text-align: right;\n",
       "    }\n",
       "\n",
       "    .dataframe thead th {\n",
       "        text-align: left;\n",
       "    }\n",
       "\n",
       "    .dataframe tbody tr th {\n",
       "        vertical-align: top;\n",
       "    }\n",
       "</style>\n",
       "<table border=\"1\" class=\"dataframe\">\n",
       "  <thead>\n",
       "    <tr style=\"text-align: right;\">\n",
       "      <th></th>\n",
       "      <th>player_api_id</th>\n",
       "      <th>date</th>\n",
       "      <th>overall_rating</th>\n",
       "      <th>preferred_foot</th>\n",
       "      <th>sprint_speed</th>\n",
       "      <th>player_name</th>\n",
       "      <th>birthday</th>\n",
       "      <th>height</th>\n",
       "      <th>weight</th>\n",
       "    </tr>\n",
       "    <tr>\n",
       "      <th>id</th>\n",
       "      <th></th>\n",
       "      <th></th>\n",
       "      <th></th>\n",
       "      <th></th>\n",
       "      <th></th>\n",
       "      <th></th>\n",
       "      <th></th>\n",
       "      <th></th>\n",
       "      <th></th>\n",
       "    </tr>\n",
       "  </thead>\n",
       "  <tbody>\n",
       "    <tr>\n",
       "      <th>1</th>\n",
       "      <td>505942</td>\n",
       "      <td>2016-02-18 00:00:00</td>\n",
       "      <td>67.0</td>\n",
       "      <td>right</td>\n",
       "      <td>64.0</td>\n",
       "      <td>Aaron Appindangoye</td>\n",
       "      <td>1992-02-29 00:00:00</td>\n",
       "      <td>182.88</td>\n",
       "      <td>187</td>\n",
       "    </tr>\n",
       "  </tbody>\n",
       "</table>\n",
       "</div>"
      ],
      "text/plain": [
       "    player_api_id                 date  overall_rating preferred_foot  \\\n",
       "id                                                                      \n",
       "1          505942  2016-02-18 00:00:00            67.0          right   \n",
       "\n",
       "    sprint_speed         player_name             birthday  height  weight  \n",
       "id                                                                         \n",
       "1           64.0  Aaron Appindangoye  1992-02-29 00:00:00  182.88     187  "
      ]
     },
     "execution_count": 107,
     "metadata": {},
     "output_type": "execute_result"
    }
   ],
   "source": [
    "# drop insignificant columns that are not relevant to the questions asked\n",
    "\n",
    "#Columns to drop in df_p (football_player_attributes.csv): 'player_fifa_api_id', 'potential', 'crossing', 'finishing', 'heading_accuracy', \n",
    "#'short_passing', 'volleys', 'dribbling', 'curve', 'free_kick_accuracy','long_passing', 'ball_control', 'acceleration', 'agility', 'reactions', \n",
    "#'balance', 'shot_power', 'jumping', 'stamina', 'strength', 'long_shots', 'aggression', 'interceptions', 'positioning', 'vision', 'penalties', \n",
    "#'marking', 'standing_tackle', 'sliding_tackle', 'gk_diving', 'gk_handling', 'gk_kicking', 'gk_positioning', 'gk_reflexes', \n",
    "#'attacking_work_rate', 'defensive_work_rate', 'id.1', 'player_api_id.1', 'player_fifa_api_id.1'\n",
    "\n",
    "#new dataframe name df_p_v1 has been assigned to make it easier to create and answer new questions after the project has finished\n",
    "df_p_v1 = df_p.drop(['player_fifa_api_id', 'potential', 'crossing', 'finishing', 'heading_accuracy', 'short_passing', 'volleys', 'dribbling', 'curve',\n",
    "'free_kick_accuracy','long_passing', 'ball_control', 'acceleration', 'agility', 'reactions', 'balance', 'shot_power', \n",
    "'jumping', 'stamina', 'strength', 'long_shots', 'aggression', 'interceptions', 'positioning', 'vision', 'penalties', \n",
    "'marking', 'standing_tackle', 'sliding_tackle', 'gk_diving', 'gk_handling', 'gk_kicking', 'gk_positioning', 'gk_reflexes', \n",
    "'attacking_work_rate', 'defensive_work_rate', 'id.1', 'player_api_id.1', 'player_fifa_api_id.1'], axis=1)\n",
    "\n",
    "# show first line of new created player dataset\n",
    "df_p_v1.head(1)"
   ]
  },
  {
   "cell_type": "markdown",
   "metadata": {},
   "source": [
    "Dropped columns in the player dataset which are not needed for further analysis."
   ]
  },
  {
   "cell_type": "code",
   "execution_count": 108,
   "metadata": {},
   "outputs": [
    {
     "data": {
      "text/html": [
       "<div>\n",
       "<style>\n",
       "    .dataframe thead tr:only-child th {\n",
       "        text-align: right;\n",
       "    }\n",
       "\n",
       "    .dataframe thead th {\n",
       "        text-align: left;\n",
       "    }\n",
       "\n",
       "    .dataframe tbody tr th {\n",
       "        vertical-align: top;\n",
       "    }\n",
       "</style>\n",
       "<table border=\"1\" class=\"dataframe\">\n",
       "  <thead>\n",
       "    <tr style=\"text-align: right;\">\n",
       "      <th></th>\n",
       "      <th>team_api_id</th>\n",
       "      <th>team_long_name</th>\n",
       "      <th>team_short_name</th>\n",
       "      <th>date</th>\n",
       "      <th>buildUpPlaySpeed</th>\n",
       "    </tr>\n",
       "    <tr>\n",
       "      <th>id</th>\n",
       "      <th></th>\n",
       "      <th></th>\n",
       "      <th></th>\n",
       "      <th></th>\n",
       "      <th></th>\n",
       "    </tr>\n",
       "  </thead>\n",
       "  <tbody>\n",
       "    <tr>\n",
       "      <th>49119</th>\n",
       "      <td>9930</td>\n",
       "      <td>FC Aarau</td>\n",
       "      <td>AAR</td>\n",
       "      <td>2010-02-22 00:00:00</td>\n",
       "      <td>60</td>\n",
       "    </tr>\n",
       "  </tbody>\n",
       "</table>\n",
       "</div>"
      ],
      "text/plain": [
       "       team_api_id team_long_name team_short_name                 date  \\\n",
       "id                                                                       \n",
       "49119         9930       FC Aarau             AAR  2010-02-22 00:00:00   \n",
       "\n",
       "       buildUpPlaySpeed  \n",
       "id                       \n",
       "49119                60  "
      ]
     },
     "execution_count": 108,
     "metadata": {},
     "output_type": "execute_result"
    }
   ],
   "source": [
    "# drop insignificant columns that are not relevant to the questions asked\n",
    "\n",
    "# Columns to drop in dp_t (football_team_attributes.csv): 'team_fifa_api_id', 'id.1', 'team_fifa_api_id.1', 'team_api_id.1', 'buildUpPlaySpeedClass', 'buildUpPlayDribbling', 'buildUpPlayDribblingClass',\n",
    "#'buildUpPlayPassing', 'buildUpPlayPassingClass', 'buildUpPlayPositioningClass', 'chanceCreationPassing', 'chanceCreationPassingClass',\n",
    "#'chanceCreationCrossing', 'chanceCreationCrossingClass', 'chanceCreationShooting', 'chanceCreationShootingClass', 'chanceCreationPositioningClass',\n",
    "#'defencePressure', 'defencePressureClass', 'defenceAggression', 'defenceAggressionClass', 'defenceTeamWidth', 'defenceTeamWidthClass', 'defenceDefenderLineClass'\n",
    "\n",
    "#new dataframe name df_t_v1 has been assigned to make it easier to create and answer new questions after the project has finished\n",
    "df_t_v1 = df_t.drop(['team_fifa_api_id', 'id.1', 'team_fifa_api_id.1', 'team_api_id.1', 'buildUpPlaySpeedClass', 'buildUpPlayDribbling', 'buildUpPlayDribblingClass',\n",
    "'buildUpPlayPassing', 'buildUpPlayPassingClass', 'buildUpPlayPositioningClass', 'chanceCreationPassing', 'chanceCreationPassingClass',\n",
    "'chanceCreationCrossing', 'chanceCreationCrossingClass', 'chanceCreationShooting', 'chanceCreationShootingClass', 'chanceCreationPositioningClass',\n",
    "'defencePressure', 'defencePressureClass', 'defenceAggression', 'defenceAggressionClass', 'defenceTeamWidth', 'defenceTeamWidthClass', 'defenceDefenderLineClass'], axis=1)\n",
    "\n",
    "# show first line of new created team dataset\n",
    "df_t_v1.head(1)"
   ]
  },
  {
   "cell_type": "markdown",
   "metadata": {},
   "source": [
    "Dropped columns in the team dataset which are not needed for further analysis."
   ]
  },
  {
   "cell_type": "code",
   "execution_count": 109,
   "metadata": {},
   "outputs": [
    {
     "data": {
      "text/html": [
       "<div>\n",
       "<style>\n",
       "    .dataframe thead tr:only-child th {\n",
       "        text-align: right;\n",
       "    }\n",
       "\n",
       "    .dataframe thead th {\n",
       "        text-align: left;\n",
       "    }\n",
       "\n",
       "    .dataframe tbody tr th {\n",
       "        vertical-align: top;\n",
       "    }\n",
       "</style>\n",
       "<table border=\"1\" class=\"dataframe\">\n",
       "  <thead>\n",
       "    <tr style=\"text-align: right;\">\n",
       "      <th></th>\n",
       "      <th>team_api_id</th>\n",
       "      <th>team_long_name</th>\n",
       "      <th>team_short_name</th>\n",
       "      <th>date</th>\n",
       "      <th>speed</th>\n",
       "    </tr>\n",
       "    <tr>\n",
       "      <th>id</th>\n",
       "      <th></th>\n",
       "      <th></th>\n",
       "      <th></th>\n",
       "      <th></th>\n",
       "      <th></th>\n",
       "    </tr>\n",
       "  </thead>\n",
       "  <tbody>\n",
       "    <tr>\n",
       "      <th>49119</th>\n",
       "      <td>9930</td>\n",
       "      <td>FC Aarau</td>\n",
       "      <td>AAR</td>\n",
       "      <td>2010-02-22 00:00:00</td>\n",
       "      <td>60</td>\n",
       "    </tr>\n",
       "  </tbody>\n",
       "</table>\n",
       "</div>"
      ],
      "text/plain": [
       "       team_api_id team_long_name team_short_name                 date  speed\n",
       "id                                                                           \n",
       "49119         9930       FC Aarau             AAR  2010-02-22 00:00:00     60"
      ]
     },
     "execution_count": 109,
     "metadata": {},
     "output_type": "execute_result"
    }
   ],
   "source": [
    "# rename column buildUpPlaySpeed in df_t_v1\n",
    "df_t_v1 = df_t_v1.rename(columns={'buildUpPlaySpeed': 'speed'})\n",
    "\n",
    "# show first line of team dataset to check whether the column change worked\n",
    "df_t_v1.head(1)"
   ]
  },
  {
   "cell_type": "code",
   "execution_count": 110,
   "metadata": {},
   "outputs": [],
   "source": [
    "# save new datasets \n",
    "df_p_v1.to_csv('football_player_attributes_v2.csv', index=False)\n",
    "df_t_v1.to_csv('football_team_attributes_v2.csv', index=False)"
   ]
  },
  {
   "cell_type": "code",
   "execution_count": 111,
   "metadata": {},
   "outputs": [],
   "source": [
    "# load new datasets\n",
    "df_p = pd.read_csv('football_player_attributes_v2.csv')\n",
    "df_t = pd.read_csv('football_team_attributes_v2.csv')"
   ]
  },
  {
   "cell_type": "code",
   "execution_count": 112,
   "metadata": {},
   "outputs": [
    {
     "data": {
      "text/html": [
       "<div>\n",
       "<style>\n",
       "    .dataframe thead tr:only-child th {\n",
       "        text-align: right;\n",
       "    }\n",
       "\n",
       "    .dataframe thead th {\n",
       "        text-align: left;\n",
       "    }\n",
       "\n",
       "    .dataframe tbody tr th {\n",
       "        vertical-align: top;\n",
       "    }\n",
       "</style>\n",
       "<table border=\"1\" class=\"dataframe\">\n",
       "  <thead>\n",
       "    <tr style=\"text-align: right;\">\n",
       "      <th></th>\n",
       "      <th>player_api_id</th>\n",
       "      <th>date</th>\n",
       "      <th>overall_rating</th>\n",
       "      <th>preferred_foot</th>\n",
       "      <th>sprint_speed</th>\n",
       "      <th>player_name</th>\n",
       "      <th>birthday</th>\n",
       "      <th>height</th>\n",
       "      <th>weight</th>\n",
       "    </tr>\n",
       "  </thead>\n",
       "  <tbody>\n",
       "    <tr>\n",
       "      <th>0</th>\n",
       "      <td>505942</td>\n",
       "      <td>2016-02-18 00:00:00</td>\n",
       "      <td>67.0</td>\n",
       "      <td>right</td>\n",
       "      <td>64.0</td>\n",
       "      <td>Aaron Appindangoye</td>\n",
       "      <td>1992-02-29 00:00:00</td>\n",
       "      <td>182.88</td>\n",
       "      <td>187</td>\n",
       "    </tr>\n",
       "  </tbody>\n",
       "</table>\n",
       "</div>"
      ],
      "text/plain": [
       "   player_api_id                 date  overall_rating preferred_foot  \\\n",
       "0         505942  2016-02-18 00:00:00            67.0          right   \n",
       "\n",
       "   sprint_speed         player_name             birthday  height  weight  \n",
       "0          64.0  Aaron Appindangoye  1992-02-29 00:00:00  182.88     187  "
      ]
     },
     "execution_count": 112,
     "metadata": {},
     "output_type": "execute_result"
    }
   ],
   "source": [
    "# print first line of player dataset\n",
    "df_p.head(1)"
   ]
  },
  {
   "cell_type": "code",
   "execution_count": 113,
   "metadata": {},
   "outputs": [
    {
     "data": {
      "text/html": [
       "<div>\n",
       "<style>\n",
       "    .dataframe thead tr:only-child th {\n",
       "        text-align: right;\n",
       "    }\n",
       "\n",
       "    .dataframe thead th {\n",
       "        text-align: left;\n",
       "    }\n",
       "\n",
       "    .dataframe tbody tr th {\n",
       "        vertical-align: top;\n",
       "    }\n",
       "</style>\n",
       "<table border=\"1\" class=\"dataframe\">\n",
       "  <thead>\n",
       "    <tr style=\"text-align: right;\">\n",
       "      <th></th>\n",
       "      <th>team_api_id</th>\n",
       "      <th>team_long_name</th>\n",
       "      <th>team_short_name</th>\n",
       "      <th>date</th>\n",
       "      <th>speed</th>\n",
       "    </tr>\n",
       "  </thead>\n",
       "  <tbody>\n",
       "    <tr>\n",
       "      <th>0</th>\n",
       "      <td>9930</td>\n",
       "      <td>FC Aarau</td>\n",
       "      <td>AAR</td>\n",
       "      <td>2010-02-22 00:00:00</td>\n",
       "      <td>60</td>\n",
       "    </tr>\n",
       "  </tbody>\n",
       "</table>\n",
       "</div>"
      ],
      "text/plain": [
       "   team_api_id team_long_name team_short_name                 date  speed\n",
       "0         9930       FC Aarau             AAR  2010-02-22 00:00:00     60"
      ]
     },
     "execution_count": 113,
     "metadata": {},
     "output_type": "execute_result"
    }
   ],
   "source": [
    "# print first line of team dataset\n",
    "df_t.head(1)"
   ]
  },
  {
   "cell_type": "code",
   "execution_count": 114,
   "metadata": {},
   "outputs": [
    {
     "data": {
      "text/plain": [
       "(183978, 9)"
      ]
     },
     "execution_count": 114,
     "metadata": {},
     "output_type": "execute_result"
    }
   ],
   "source": [
    "# shape player dataset\n",
    "df_p.shape"
   ]
  },
  {
   "cell_type": "markdown",
   "metadata": {},
   "source": [
    "The new shape of the player dataset after deletion of unecessary columns are:<br>\n",
    "183978 rows<br>\n",
    "9 columns"
   ]
  },
  {
   "cell_type": "code",
   "execution_count": 115,
   "metadata": {},
   "outputs": [
    {
     "data": {
      "text/plain": [
       "(1458, 5)"
      ]
     },
     "execution_count": 115,
     "metadata": {},
     "output_type": "execute_result"
    }
   ],
   "source": [
    "# shape team dataset\n",
    "df_t.shape"
   ]
  },
  {
   "cell_type": "markdown",
   "metadata": {},
   "source": [
    "The new shape of the team dataset after deletion of unecessary columns are:<br>\n",
    "1458 rows<br>\n",
    "5 columns"
   ]
  },
  {
   "cell_type": "code",
   "execution_count": 116,
   "metadata": {},
   "outputs": [
    {
     "name": "stdout",
     "output_type": "stream",
     "text": [
      "<class 'pandas.core.frame.DataFrame'>\n",
      "RangeIndex: 183978 entries, 0 to 183977\n",
      "Data columns (total 9 columns):\n",
      "player_api_id     183978 non-null int64\n",
      "date              183978 non-null object\n",
      "overall_rating    183142 non-null float64\n",
      "preferred_foot    183142 non-null object\n",
      "sprint_speed      183142 non-null float64\n",
      "player_name       183978 non-null object\n",
      "birthday          183978 non-null object\n",
      "height            183978 non-null float64\n",
      "weight            183978 non-null int64\n",
      "dtypes: float64(3), int64(2), object(4)\n",
      "memory usage: 12.6+ MB\n"
     ]
    }
   ],
   "source": [
    "# info player dataset\n",
    "df_p.info()"
   ]
  },
  {
   "cell_type": "code",
   "execution_count": 117,
   "metadata": {},
   "outputs": [
    {
     "name": "stdout",
     "output_type": "stream",
     "text": [
      "<class 'pandas.core.frame.DataFrame'>\n",
      "RangeIndex: 1458 entries, 0 to 1457\n",
      "Data columns (total 5 columns):\n",
      "team_api_id        1458 non-null int64\n",
      "team_long_name     1458 non-null object\n",
      "team_short_name    1458 non-null object\n",
      "date               1458 non-null object\n",
      "speed              1458 non-null int64\n",
      "dtypes: int64(2), object(3)\n",
      "memory usage: 57.0+ KB\n"
     ]
    }
   ],
   "source": [
    "# info team dataset\n",
    "df_t.info()"
   ]
  },
  {
   "cell_type": "markdown",
   "metadata": {},
   "source": [
    "The date column is stored as string. Changing the datatype to datetime."
   ]
  },
  {
   "cell_type": "code",
   "execution_count": 118,
   "metadata": {},
   "outputs": [],
   "source": [
    "# column 'date' is a string, convert to datetime format\n",
    "df_p['date'] = pd.to_datetime(df_p['date'])\n",
    "df_t['date'] = pd.to_datetime(df_t['date'])"
   ]
  },
  {
   "cell_type": "code",
   "execution_count": 119,
   "metadata": {},
   "outputs": [
    {
     "data": {
      "text/html": [
       "<div>\n",
       "<style>\n",
       "    .dataframe thead tr:only-child th {\n",
       "        text-align: right;\n",
       "    }\n",
       "\n",
       "    .dataframe thead th {\n",
       "        text-align: left;\n",
       "    }\n",
       "\n",
       "    .dataframe tbody tr th {\n",
       "        vertical-align: top;\n",
       "    }\n",
       "</style>\n",
       "<table border=\"1\" class=\"dataframe\">\n",
       "  <thead>\n",
       "    <tr style=\"text-align: right;\">\n",
       "      <th></th>\n",
       "      <th>weight</th>\n",
       "      <th>weight_kg</th>\n",
       "    </tr>\n",
       "  </thead>\n",
       "  <tbody>\n",
       "    <tr>\n",
       "      <th>0</th>\n",
       "      <td>187</td>\n",
       "      <td>84.821773</td>\n",
       "    </tr>\n",
       "    <tr>\n",
       "      <th>1</th>\n",
       "      <td>187</td>\n",
       "      <td>84.821773</td>\n",
       "    </tr>\n",
       "    <tr>\n",
       "      <th>2</th>\n",
       "      <td>187</td>\n",
       "      <td>84.821773</td>\n",
       "    </tr>\n",
       "  </tbody>\n",
       "</table>\n",
       "</div>"
      ],
      "text/plain": [
       "   weight  weight_kg\n",
       "0     187  84.821773\n",
       "1     187  84.821773\n",
       "2     187  84.821773"
      ]
     },
     "execution_count": 119,
     "metadata": {},
     "output_type": "execute_result"
    }
   ],
   "source": [
    "# column 'weight' is actual stored in pounds, I want this values in kilograms\n",
    "# create new column 'weight_kg' that contains the players weight in kilograms\n",
    "weight_kg = df_p['weight'] * 0.45359237\n",
    "df_p['weight_kg'] = weight_kg\n",
    "df_p.iloc[0:3, 8:].head()"
   ]
  },
  {
   "cell_type": "code",
   "execution_count": 120,
   "metadata": {},
   "outputs": [
    {
     "name": "stdout",
     "output_type": "stream",
     "text": [
      "<class 'pandas.core.frame.DataFrame'>\n",
      "RangeIndex: 183978 entries, 0 to 183977\n",
      "Data columns (total 10 columns):\n",
      "player_api_id     183978 non-null int64\n",
      "date              183978 non-null datetime64[ns]\n",
      "overall_rating    183142 non-null float64\n",
      "preferred_foot    183142 non-null object\n",
      "sprint_speed      183142 non-null float64\n",
      "player_name       183978 non-null object\n",
      "birthday          183978 non-null object\n",
      "height            183978 non-null float64\n",
      "weight            183978 non-null int64\n",
      "weight_kg         183978 non-null float64\n",
      "dtypes: datetime64[ns](1), float64(4), int64(2), object(3)\n",
      "memory usage: 14.0+ MB\n"
     ]
    }
   ],
   "source": [
    "# check new datatype for date\n",
    "df_p.info()"
   ]
  },
  {
   "cell_type": "code",
   "execution_count": 121,
   "metadata": {},
   "outputs": [
    {
     "name": "stdout",
     "output_type": "stream",
     "text": [
      "<class 'pandas.core.frame.DataFrame'>\n",
      "RangeIndex: 1458 entries, 0 to 1457\n",
      "Data columns (total 5 columns):\n",
      "team_api_id        1458 non-null int64\n",
      "team_long_name     1458 non-null object\n",
      "team_short_name    1458 non-null object\n",
      "date               1458 non-null datetime64[ns]\n",
      "speed              1458 non-null int64\n",
      "dtypes: datetime64[ns](1), int64(2), object(2)\n",
      "memory usage: 57.0+ KB\n"
     ]
    }
   ],
   "source": [
    "# check new datatype for date\n",
    "df_t.info()"
   ]
  },
  {
   "cell_type": "code",
   "execution_count": 122,
   "metadata": {},
   "outputs": [
    {
     "data": {
      "text/plain": [
       "player_api_id       0\n",
       "date                0\n",
       "overall_rating    836\n",
       "preferred_foot    836\n",
       "sprint_speed      836\n",
       "player_name         0\n",
       "birthday            0\n",
       "height              0\n",
       "weight              0\n",
       "weight_kg           0\n",
       "dtype: int64"
      ]
     },
     "execution_count": 122,
     "metadata": {},
     "output_type": "execute_result"
    }
   ],
   "source": [
    "# check null values in player dataset\n",
    "df_p.isnull().sum()"
   ]
  },
  {
   "cell_type": "markdown",
   "metadata": {},
   "source": [
    "There are 4 rows with null values in the player dataset. We will drop this values."
   ]
  },
  {
   "cell_type": "code",
   "execution_count": 123,
   "metadata": {},
   "outputs": [
    {
     "data": {
      "text/plain": [
       "0"
      ]
     },
     "execution_count": 123,
     "metadata": {},
     "output_type": "execute_result"
    }
   ],
   "source": [
    "# check null values in team dataset\n",
    "df_t.isnull().any().sum()"
   ]
  },
  {
   "cell_type": "markdown",
   "metadata": {},
   "source": [
    "There are no null values in the team dataset."
   ]
  },
  {
   "cell_type": "code",
   "execution_count": 124,
   "metadata": {},
   "outputs": [],
   "source": [
    "# drop null values in team dataset\n",
    "df_t.dropna(axis=0, how='any', inplace=True)"
   ]
  },
  {
   "cell_type": "code",
   "execution_count": 125,
   "metadata": {},
   "outputs": [
    {
     "data": {
      "text/plain": [
       "False"
      ]
     },
     "execution_count": 125,
     "metadata": {},
     "output_type": "execute_result"
    }
   ],
   "source": [
    "# check if any null values are left in team dataset\n",
    "df_t.isnull().sum().any() # should be False"
   ]
  },
  {
   "cell_type": "code",
   "execution_count": 126,
   "metadata": {},
   "outputs": [],
   "source": [
    "# drop rows with null values for player dataset\n",
    "df_p.dropna(axis=0, how='any', inplace=True)"
   ]
  },
  {
   "cell_type": "code",
   "execution_count": 127,
   "metadata": {},
   "outputs": [
    {
     "data": {
      "text/plain": [
       "False"
      ]
     },
     "execution_count": 127,
     "metadata": {},
     "output_type": "execute_result"
    }
   ],
   "source": [
    "# check if any null values are left in player datase\n",
    "df_p.isnull().sum().any() # should be False"
   ]
  },
  {
   "cell_type": "code",
   "execution_count": 128,
   "metadata": {},
   "outputs": [
    {
     "data": {
      "text/plain": [
       "0"
      ]
     },
     "execution_count": 128,
     "metadata": {},
     "output_type": "execute_result"
    }
   ],
   "source": [
    "# count number of duplicate rows for player dataset\n",
    "sum(df_p.duplicated())"
   ]
  },
  {
   "cell_type": "code",
   "execution_count": 129,
   "metadata": {},
   "outputs": [
    {
     "data": {
      "text/plain": [
       "1"
      ]
     },
     "execution_count": 129,
     "metadata": {},
     "output_type": "execute_result"
    }
   ],
   "source": [
    "# count number of duplicate rows for team dataset\n",
    "sum(df_t.duplicated())"
   ]
  },
  {
   "cell_type": "code",
   "execution_count": 130,
   "metadata": {},
   "outputs": [
    {
     "data": {
      "text/plain": [
       "0"
      ]
     },
     "execution_count": 130,
     "metadata": {},
     "output_type": "execute_result"
    }
   ],
   "source": [
    "df_t.drop_duplicates(inplace=True)\n",
    "sum(df_t.duplicated())"
   ]
  },
  {
   "cell_type": "markdown",
   "metadata": {},
   "source": [
    "There are players in the dataset, where the player_name also includes their field number. We drop the field number, as we don't need it."
   ]
  },
  {
   "cell_type": "code",
   "execution_count": 131,
   "metadata": {},
   "outputs": [
    {
     "data": {
      "text/html": [
       "<div>\n",
       "<style>\n",
       "    .dataframe thead tr:only-child th {\n",
       "        text-align: right;\n",
       "    }\n",
       "\n",
       "    .dataframe thead th {\n",
       "        text-align: left;\n",
       "    }\n",
       "\n",
       "    .dataframe tbody tr th {\n",
       "        vertical-align: top;\n",
       "    }\n",
       "</style>\n",
       "<table border=\"1\" class=\"dataframe\">\n",
       "  <thead>\n",
       "    <tr style=\"text-align: right;\">\n",
       "      <th></th>\n",
       "      <th>player_api_id</th>\n",
       "      <th>date</th>\n",
       "      <th>overall_rating</th>\n",
       "      <th>preferred_foot</th>\n",
       "      <th>sprint_speed</th>\n",
       "      <th>player_name</th>\n",
       "      <th>birthday</th>\n",
       "      <th>height</th>\n",
       "      <th>weight</th>\n",
       "      <th>weight_kg</th>\n",
       "    </tr>\n",
       "  </thead>\n",
       "  <tbody>\n",
       "    <tr>\n",
       "      <th>675</th>\n",
       "      <td>194479</td>\n",
       "      <td>2016-03-24</td>\n",
       "      <td>73.0</td>\n",
       "      <td>right</td>\n",
       "      <td>76.0</td>\n",
       "      <td>Abdoulaye Diallo Sadio,22</td>\n",
       "      <td>1990-12-28 00:00:00</td>\n",
       "      <td>182.88</td>\n",
       "      <td>168</td>\n",
       "      <td>76.203518</td>\n",
       "    </tr>\n",
       "    <tr>\n",
       "      <th>676</th>\n",
       "      <td>194479</td>\n",
       "      <td>2016-02-25</td>\n",
       "      <td>72.0</td>\n",
       "      <td>right</td>\n",
       "      <td>76.0</td>\n",
       "      <td>Abdoulaye Diallo Sadio,22</td>\n",
       "      <td>1990-12-28 00:00:00</td>\n",
       "      <td>182.88</td>\n",
       "      <td>168</td>\n",
       "      <td>76.203518</td>\n",
       "    </tr>\n",
       "    <tr>\n",
       "      <th>677</th>\n",
       "      <td>194479</td>\n",
       "      <td>2016-01-07</td>\n",
       "      <td>72.0</td>\n",
       "      <td>right</td>\n",
       "      <td>76.0</td>\n",
       "      <td>Abdoulaye Diallo Sadio,22</td>\n",
       "      <td>1990-12-28 00:00:00</td>\n",
       "      <td>182.88</td>\n",
       "      <td>168</td>\n",
       "      <td>76.203518</td>\n",
       "    </tr>\n",
       "    <tr>\n",
       "      <th>678</th>\n",
       "      <td>194479</td>\n",
       "      <td>2015-09-21</td>\n",
       "      <td>72.0</td>\n",
       "      <td>right</td>\n",
       "      <td>76.0</td>\n",
       "      <td>Abdoulaye Diallo Sadio,22</td>\n",
       "      <td>1990-12-28 00:00:00</td>\n",
       "      <td>182.88</td>\n",
       "      <td>168</td>\n",
       "      <td>76.203518</td>\n",
       "    </tr>\n",
       "    <tr>\n",
       "      <th>679</th>\n",
       "      <td>194479</td>\n",
       "      <td>2015-07-03</td>\n",
       "      <td>71.0</td>\n",
       "      <td>right</td>\n",
       "      <td>78.0</td>\n",
       "      <td>Abdoulaye Diallo Sadio,22</td>\n",
       "      <td>1990-12-28 00:00:00</td>\n",
       "      <td>182.88</td>\n",
       "      <td>168</td>\n",
       "      <td>76.203518</td>\n",
       "    </tr>\n",
       "  </tbody>\n",
       "</table>\n",
       "</div>"
      ],
      "text/plain": [
       "     player_api_id       date  overall_rating preferred_foot  sprint_speed  \\\n",
       "675         194479 2016-03-24            73.0          right          76.0   \n",
       "676         194479 2016-02-25            72.0          right          76.0   \n",
       "677         194479 2016-01-07            72.0          right          76.0   \n",
       "678         194479 2015-09-21            72.0          right          76.0   \n",
       "679         194479 2015-07-03            71.0          right          78.0   \n",
       "\n",
       "                   player_name             birthday  height  weight  weight_kg  \n",
       "675  Abdoulaye Diallo Sadio,22  1990-12-28 00:00:00  182.88     168  76.203518  \n",
       "676  Abdoulaye Diallo Sadio,22  1990-12-28 00:00:00  182.88     168  76.203518  \n",
       "677  Abdoulaye Diallo Sadio,22  1990-12-28 00:00:00  182.88     168  76.203518  \n",
       "678  Abdoulaye Diallo Sadio,22  1990-12-28 00:00:00  182.88     168  76.203518  \n",
       "679  Abdoulaye Diallo Sadio,22  1990-12-28 00:00:00  182.88     168  76.203518  "
      ]
     },
     "execution_count": 131,
     "metadata": {},
     "output_type": "execute_result"
    }
   ],
   "source": [
    "# find player names which are seperated by \",\" with the their field number\n",
    "player_names = df_p[df_p['player_name'].str.contains(',')]\n",
    "# show examples with player names and field numbers\n",
    "player_names.head()"
   ]
  },
  {
   "cell_type": "markdown",
   "metadata": {},
   "source": [
    "We´re going to take each player_name row and split them into two new rows - one with values for the player name (values before the \",\"), and the other with values for the second fuel type (values after the \",\"). At first let's seperate them into two dataframes."
   ]
  },
  {
   "cell_type": "code",
   "execution_count": 132,
   "metadata": {},
   "outputs": [
    {
     "data": {
      "text/html": [
       "<div>\n",
       "<style>\n",
       "    .dataframe thead tr:only-child th {\n",
       "        text-align: right;\n",
       "    }\n",
       "\n",
       "    .dataframe thead th {\n",
       "        text-align: left;\n",
       "    }\n",
       "\n",
       "    .dataframe tbody tr th {\n",
       "        vertical-align: top;\n",
       "    }\n",
       "</style>\n",
       "<table border=\"1\" class=\"dataframe\">\n",
       "  <thead>\n",
       "    <tr style=\"text-align: right;\">\n",
       "      <th></th>\n",
       "      <th>player_api_id</th>\n",
       "      <th>date</th>\n",
       "      <th>overall_rating</th>\n",
       "      <th>preferred_foot</th>\n",
       "      <th>sprint_speed</th>\n",
       "      <th>player_name</th>\n",
       "      <th>birthday</th>\n",
       "      <th>height</th>\n",
       "      <th>weight</th>\n",
       "      <th>weight_kg</th>\n",
       "    </tr>\n",
       "  </thead>\n",
       "  <tbody>\n",
       "    <tr>\n",
       "      <th>675</th>\n",
       "      <td>194479</td>\n",
       "      <td>2016-03-24</td>\n",
       "      <td>73.0</td>\n",
       "      <td>right</td>\n",
       "      <td>76.0</td>\n",
       "      <td>Abdoulaye Diallo Sadio,22</td>\n",
       "      <td>1990-12-28 00:00:00</td>\n",
       "      <td>182.88</td>\n",
       "      <td>168</td>\n",
       "      <td>76.203518</td>\n",
       "    </tr>\n",
       "  </tbody>\n",
       "</table>\n",
       "</div>"
      ],
      "text/plain": [
       "     player_api_id       date  overall_rating preferred_foot  sprint_speed  \\\n",
       "675         194479 2016-03-24            73.0          right          76.0   \n",
       "\n",
       "                   player_name             birthday  height  weight  weight_kg  \n",
       "675  Abdoulaye Diallo Sadio,22  1990-12-28 00:00:00  182.88     168  76.203518  "
      ]
     },
     "execution_count": 132,
     "metadata": {},
     "output_type": "execute_result"
    }
   ],
   "source": [
    "# create one copy of the player dataset\n",
    "# we only need one copy, as we don't need the player number and will drop the values behind the comma\n",
    "df1 = player_names.copy() # data on the player name\n",
    "\n",
    "# show copy head\n",
    "df1.head(1)"
   ]
  },
  {
   "cell_type": "code",
   "execution_count": 133,
   "metadata": {},
   "outputs": [],
   "source": [
    "# using Pandas apply function\n",
    "# columns to split by \",\"\n",
    "split_column = ['player_name']\n",
    "\n",
    "# apply split function to each column of each dataframe copy\n",
    "for c in split_column:\n",
    "    df1[c] = df1[c].apply(lambda x: x.split(\",\")[0])"
   ]
  },
  {
   "cell_type": "code",
   "execution_count": 134,
   "metadata": {},
   "outputs": [
    {
     "data": {
      "text/html": [
       "<div>\n",
       "<style>\n",
       "    .dataframe thead tr:only-child th {\n",
       "        text-align: right;\n",
       "    }\n",
       "\n",
       "    .dataframe thead th {\n",
       "        text-align: left;\n",
       "    }\n",
       "\n",
       "    .dataframe tbody tr th {\n",
       "        vertical-align: top;\n",
       "    }\n",
       "</style>\n",
       "<table border=\"1\" class=\"dataframe\">\n",
       "  <thead>\n",
       "    <tr style=\"text-align: right;\">\n",
       "      <th></th>\n",
       "      <th>player_api_id</th>\n",
       "      <th>date</th>\n",
       "      <th>overall_rating</th>\n",
       "      <th>preferred_foot</th>\n",
       "      <th>sprint_speed</th>\n",
       "      <th>player_name</th>\n",
       "      <th>birthday</th>\n",
       "      <th>height</th>\n",
       "      <th>weight</th>\n",
       "      <th>weight_kg</th>\n",
       "    </tr>\n",
       "  </thead>\n",
       "  <tbody>\n",
       "    <tr>\n",
       "      <th>675</th>\n",
       "      <td>194479</td>\n",
       "      <td>2016-03-24</td>\n",
       "      <td>73.0</td>\n",
       "      <td>right</td>\n",
       "      <td>76.0</td>\n",
       "      <td>Abdoulaye Diallo Sadio</td>\n",
       "      <td>1990-12-28 00:00:00</td>\n",
       "      <td>182.88</td>\n",
       "      <td>168</td>\n",
       "      <td>76.203518</td>\n",
       "    </tr>\n",
       "    <tr>\n",
       "      <th>676</th>\n",
       "      <td>194479</td>\n",
       "      <td>2016-02-25</td>\n",
       "      <td>72.0</td>\n",
       "      <td>right</td>\n",
       "      <td>76.0</td>\n",
       "      <td>Abdoulaye Diallo Sadio</td>\n",
       "      <td>1990-12-28 00:00:00</td>\n",
       "      <td>182.88</td>\n",
       "      <td>168</td>\n",
       "      <td>76.203518</td>\n",
       "    </tr>\n",
       "    <tr>\n",
       "      <th>677</th>\n",
       "      <td>194479</td>\n",
       "      <td>2016-01-07</td>\n",
       "      <td>72.0</td>\n",
       "      <td>right</td>\n",
       "      <td>76.0</td>\n",
       "      <td>Abdoulaye Diallo Sadio</td>\n",
       "      <td>1990-12-28 00:00:00</td>\n",
       "      <td>182.88</td>\n",
       "      <td>168</td>\n",
       "      <td>76.203518</td>\n",
       "    </tr>\n",
       "    <tr>\n",
       "      <th>678</th>\n",
       "      <td>194479</td>\n",
       "      <td>2015-09-21</td>\n",
       "      <td>72.0</td>\n",
       "      <td>right</td>\n",
       "      <td>76.0</td>\n",
       "      <td>Abdoulaye Diallo Sadio</td>\n",
       "      <td>1990-12-28 00:00:00</td>\n",
       "      <td>182.88</td>\n",
       "      <td>168</td>\n",
       "      <td>76.203518</td>\n",
       "    </tr>\n",
       "    <tr>\n",
       "      <th>679</th>\n",
       "      <td>194479</td>\n",
       "      <td>2015-07-03</td>\n",
       "      <td>71.0</td>\n",
       "      <td>right</td>\n",
       "      <td>78.0</td>\n",
       "      <td>Abdoulaye Diallo Sadio</td>\n",
       "      <td>1990-12-28 00:00:00</td>\n",
       "      <td>182.88</td>\n",
       "      <td>168</td>\n",
       "      <td>76.203518</td>\n",
       "    </tr>\n",
       "  </tbody>\n",
       "</table>\n",
       "</div>"
      ],
      "text/plain": [
       "     player_api_id       date  overall_rating preferred_foot  sprint_speed  \\\n",
       "675         194479 2016-03-24            73.0          right          76.0   \n",
       "676         194479 2016-02-25            72.0          right          76.0   \n",
       "677         194479 2016-01-07            72.0          right          76.0   \n",
       "678         194479 2015-09-21            72.0          right          76.0   \n",
       "679         194479 2015-07-03            71.0          right          78.0   \n",
       "\n",
       "                player_name             birthday  height  weight  weight_kg  \n",
       "675  Abdoulaye Diallo Sadio  1990-12-28 00:00:00  182.88     168  76.203518  \n",
       "676  Abdoulaye Diallo Sadio  1990-12-28 00:00:00  182.88     168  76.203518  \n",
       "677  Abdoulaye Diallo Sadio  1990-12-28 00:00:00  182.88     168  76.203518  \n",
       "678  Abdoulaye Diallo Sadio  1990-12-28 00:00:00  182.88     168  76.203518  \n",
       "679  Abdoulaye Diallo Sadio  1990-12-28 00:00:00  182.88     168  76.203518  "
      ]
     },
     "execution_count": 134,
     "metadata": {},
     "output_type": "execute_result"
    }
   ],
   "source": [
    "# this dataframe holds info for the player name\n",
    "# aka values before the \",\"\n",
    "df1.head()"
   ]
  },
  {
   "cell_type": "code",
   "execution_count": 135,
   "metadata": {},
   "outputs": [
    {
     "data": {
      "text/html": [
       "<div>\n",
       "<style>\n",
       "    .dataframe thead tr:only-child th {\n",
       "        text-align: right;\n",
       "    }\n",
       "\n",
       "    .dataframe thead th {\n",
       "        text-align: left;\n",
       "    }\n",
       "\n",
       "    .dataframe tbody tr th {\n",
       "        vertical-align: top;\n",
       "    }\n",
       "</style>\n",
       "<table border=\"1\" class=\"dataframe\">\n",
       "  <thead>\n",
       "    <tr style=\"text-align: right;\">\n",
       "      <th></th>\n",
       "      <th>player_api_id</th>\n",
       "      <th>date</th>\n",
       "      <th>overall_rating</th>\n",
       "      <th>preferred_foot</th>\n",
       "      <th>sprint_speed</th>\n",
       "      <th>player_name</th>\n",
       "      <th>birthday</th>\n",
       "      <th>height</th>\n",
       "      <th>weight</th>\n",
       "      <th>weight_kg</th>\n",
       "    </tr>\n",
       "  </thead>\n",
       "  <tbody>\n",
       "    <tr>\n",
       "      <th>675</th>\n",
       "      <td>194479</td>\n",
       "      <td>2016-03-24</td>\n",
       "      <td>73.0</td>\n",
       "      <td>right</td>\n",
       "      <td>76.0</td>\n",
       "      <td>Abdoulaye Diallo Sadio</td>\n",
       "      <td>1990-12-28 00:00:00</td>\n",
       "      <td>182.88</td>\n",
       "      <td>168</td>\n",
       "      <td>76.203518</td>\n",
       "    </tr>\n",
       "    <tr>\n",
       "      <th>676</th>\n",
       "      <td>194479</td>\n",
       "      <td>2016-02-25</td>\n",
       "      <td>72.0</td>\n",
       "      <td>right</td>\n",
       "      <td>76.0</td>\n",
       "      <td>Abdoulaye Diallo Sadio</td>\n",
       "      <td>1990-12-28 00:00:00</td>\n",
       "      <td>182.88</td>\n",
       "      <td>168</td>\n",
       "      <td>76.203518</td>\n",
       "    </tr>\n",
       "    <tr>\n",
       "      <th>677</th>\n",
       "      <td>194479</td>\n",
       "      <td>2016-01-07</td>\n",
       "      <td>72.0</td>\n",
       "      <td>right</td>\n",
       "      <td>76.0</td>\n",
       "      <td>Abdoulaye Diallo Sadio</td>\n",
       "      <td>1990-12-28 00:00:00</td>\n",
       "      <td>182.88</td>\n",
       "      <td>168</td>\n",
       "      <td>76.203518</td>\n",
       "    </tr>\n",
       "    <tr>\n",
       "      <th>678</th>\n",
       "      <td>194479</td>\n",
       "      <td>2015-09-21</td>\n",
       "      <td>72.0</td>\n",
       "      <td>right</td>\n",
       "      <td>76.0</td>\n",
       "      <td>Abdoulaye Diallo Sadio</td>\n",
       "      <td>1990-12-28 00:00:00</td>\n",
       "      <td>182.88</td>\n",
       "      <td>168</td>\n",
       "      <td>76.203518</td>\n",
       "    </tr>\n",
       "    <tr>\n",
       "      <th>679</th>\n",
       "      <td>194479</td>\n",
       "      <td>2015-07-03</td>\n",
       "      <td>71.0</td>\n",
       "      <td>right</td>\n",
       "      <td>78.0</td>\n",
       "      <td>Abdoulaye Diallo Sadio</td>\n",
       "      <td>1990-12-28 00:00:00</td>\n",
       "      <td>182.88</td>\n",
       "      <td>168</td>\n",
       "      <td>76.203518</td>\n",
       "    </tr>\n",
       "  </tbody>\n",
       "</table>\n",
       "</div>"
      ],
      "text/plain": [
       "     player_api_id       date  overall_rating preferred_foot  sprint_speed  \\\n",
       "675         194479 2016-03-24            73.0          right          76.0   \n",
       "676         194479 2016-02-25            72.0          right          76.0   \n",
       "677         194479 2016-01-07            72.0          right          76.0   \n",
       "678         194479 2015-09-21            72.0          right          76.0   \n",
       "679         194479 2015-07-03            71.0          right          78.0   \n",
       "\n",
       "                player_name             birthday  height  weight  weight_kg  \n",
       "675  Abdoulaye Diallo Sadio  1990-12-28 00:00:00  182.88     168  76.203518  \n",
       "676  Abdoulaye Diallo Sadio  1990-12-28 00:00:00  182.88     168  76.203518  \n",
       "677  Abdoulaye Diallo Sadio  1990-12-28 00:00:00  182.88     168  76.203518  \n",
       "678  Abdoulaye Diallo Sadio  1990-12-28 00:00:00  182.88     168  76.203518  \n",
       "679  Abdoulaye Diallo Sadio  1990-12-28 00:00:00  182.88     168  76.203518  "
      ]
     },
     "execution_count": 135,
     "metadata": {},
     "output_type": "execute_result"
    }
   ],
   "source": [
    "# add new dataframe to the original dataframe\n",
    "new_rows = df1\n",
    "# now we have seperated the player name from the field number, we won't use the field number\n",
    "new_rows.head()"
   ]
  },
  {
   "cell_type": "code",
   "execution_count": 136,
   "metadata": {},
   "outputs": [],
   "source": [
    "# drop the original player_name rows\n",
    "df_p.drop(player_names.index, inplace=True)\n",
    "\n",
    "# add the newly seperated rows\n",
    "df_p = df_p.append(new_rows, ignore_index=True)"
   ]
  },
  {
   "cell_type": "code",
   "execution_count": 137,
   "metadata": {},
   "outputs": [
    {
     "data": {
      "text/plain": [
       "False"
      ]
     },
     "execution_count": 137,
     "metadata": {},
     "output_type": "execute_result"
    }
   ],
   "source": [
    "# check that all the original player_name rows with \",\" are dropped\n",
    "df_p[df_p['player_name'].str.contains(\",\")].sum().any() # should display False"
   ]
  },
  {
   "cell_type": "markdown",
   "metadata": {},
   "source": [
    "There are no more values left in the player_name column with \",\"."
   ]
  },
  {
   "cell_type": "code",
   "execution_count": 138,
   "metadata": {},
   "outputs": [],
   "source": [
    "# save new dataset\n",
    "df_p.to_csv('football_player_attributes_v3.csv', index=False)\n",
    "df_t.to_csv('football_team_attributes_v3.csv', index=False)"
   ]
  },
  {
   "cell_type": "markdown",
   "metadata": {},
   "source": [
    "<a id='eda'></a>\n",
    "## Exploratory Data Analysis\n",
    "\n",
    "\n",
    "### Research Question 1: Who are the players with an overall rating above 90? "
   ]
  },
  {
   "cell_type": "code",
   "execution_count": 139,
   "metadata": {},
   "outputs": [],
   "source": [
    "# load new datasets\n",
    "df_p = pd.read_csv('football_player_attributes_v3.csv')\n",
    "df_t = pd.read_csv('football_team_attributes_v3.csv')"
   ]
  },
  {
   "cell_type": "code",
   "execution_count": 140,
   "metadata": {},
   "outputs": [
    {
     "data": {
      "text/html": [
       "<div>\n",
       "<style>\n",
       "    .dataframe thead tr:only-child th {\n",
       "        text-align: right;\n",
       "    }\n",
       "\n",
       "    .dataframe thead th {\n",
       "        text-align: left;\n",
       "    }\n",
       "\n",
       "    .dataframe tbody tr th {\n",
       "        vertical-align: top;\n",
       "    }\n",
       "</style>\n",
       "<table border=\"1\" class=\"dataframe\">\n",
       "  <thead>\n",
       "    <tr style=\"text-align: right;\">\n",
       "      <th></th>\n",
       "      <th>player_api_id</th>\n",
       "      <th>date</th>\n",
       "      <th>overall_rating</th>\n",
       "      <th>preferred_foot</th>\n",
       "      <th>sprint_speed</th>\n",
       "      <th>player_name</th>\n",
       "      <th>birthday</th>\n",
       "      <th>height</th>\n",
       "      <th>weight</th>\n",
       "      <th>weight_kg</th>\n",
       "    </tr>\n",
       "  </thead>\n",
       "  <tbody>\n",
       "    <tr>\n",
       "      <th>6452</th>\n",
       "      <td>30723</td>\n",
       "      <td>2007-08-30</td>\n",
       "      <td>91.0</td>\n",
       "      <td>right</td>\n",
       "      <td>78.0</td>\n",
       "      <td>Alessandro Nesta</td>\n",
       "      <td>1976-03-19 00:00:00</td>\n",
       "      <td>187.96</td>\n",
       "      <td>174</td>\n",
       "      <td>78.925072</td>\n",
       "    </tr>\n",
       "    <tr>\n",
       "      <th>6453</th>\n",
       "      <td>30723</td>\n",
       "      <td>2007-02-22</td>\n",
       "      <td>91.0</td>\n",
       "      <td>right</td>\n",
       "      <td>88.0</td>\n",
       "      <td>Alessandro Nesta</td>\n",
       "      <td>1976-03-19 00:00:00</td>\n",
       "      <td>187.96</td>\n",
       "      <td>174</td>\n",
       "      <td>78.925072</td>\n",
       "    </tr>\n",
       "    <tr>\n",
       "      <th>12667</th>\n",
       "      <td>30955</td>\n",
       "      <td>2012-02-22</td>\n",
       "      <td>91.0</td>\n",
       "      <td>right</td>\n",
       "      <td>74.0</td>\n",
       "      <td>Andres Iniesta</td>\n",
       "      <td>1984-05-11 00:00:00</td>\n",
       "      <td>170.18</td>\n",
       "      <td>150</td>\n",
       "      <td>68.038856</td>\n",
       "    </tr>\n",
       "    <tr>\n",
       "      <th>12668</th>\n",
       "      <td>30955</td>\n",
       "      <td>2011-08-30</td>\n",
       "      <td>91.0</td>\n",
       "      <td>right</td>\n",
       "      <td>75.0</td>\n",
       "      <td>Andres Iniesta</td>\n",
       "      <td>1984-05-11 00:00:00</td>\n",
       "      <td>170.18</td>\n",
       "      <td>150</td>\n",
       "      <td>68.038856</td>\n",
       "    </tr>\n",
       "    <tr>\n",
       "      <th>33047</th>\n",
       "      <td>30893</td>\n",
       "      <td>2015-10-16</td>\n",
       "      <td>93.0</td>\n",
       "      <td>right</td>\n",
       "      <td>93.0</td>\n",
       "      <td>Cristiano Ronaldo</td>\n",
       "      <td>1985-02-05 00:00:00</td>\n",
       "      <td>185.42</td>\n",
       "      <td>176</td>\n",
       "      <td>79.832257</td>\n",
       "    </tr>\n",
       "    <tr>\n",
       "      <th>33048</th>\n",
       "      <td>30893</td>\n",
       "      <td>2015-09-25</td>\n",
       "      <td>93.0</td>\n",
       "      <td>right</td>\n",
       "      <td>93.0</td>\n",
       "      <td>Cristiano Ronaldo</td>\n",
       "      <td>1985-02-05 00:00:00</td>\n",
       "      <td>185.42</td>\n",
       "      <td>176</td>\n",
       "      <td>79.832257</td>\n",
       "    </tr>\n",
       "    <tr>\n",
       "      <th>33049</th>\n",
       "      <td>30893</td>\n",
       "      <td>2015-09-21</td>\n",
       "      <td>93.0</td>\n",
       "      <td>right</td>\n",
       "      <td>93.0</td>\n",
       "      <td>Cristiano Ronaldo</td>\n",
       "      <td>1985-02-05 00:00:00</td>\n",
       "      <td>185.42</td>\n",
       "      <td>176</td>\n",
       "      <td>79.832257</td>\n",
       "    </tr>\n",
       "    <tr>\n",
       "      <th>33050</th>\n",
       "      <td>30893</td>\n",
       "      <td>2015-05-15</td>\n",
       "      <td>92.0</td>\n",
       "      <td>right</td>\n",
       "      <td>94.0</td>\n",
       "      <td>Cristiano Ronaldo</td>\n",
       "      <td>1985-02-05 00:00:00</td>\n",
       "      <td>185.42</td>\n",
       "      <td>176</td>\n",
       "      <td>79.832257</td>\n",
       "    </tr>\n",
       "    <tr>\n",
       "      <th>33051</th>\n",
       "      <td>30893</td>\n",
       "      <td>2015-04-17</td>\n",
       "      <td>92.0</td>\n",
       "      <td>right</td>\n",
       "      <td>94.0</td>\n",
       "      <td>Cristiano Ronaldo</td>\n",
       "      <td>1985-02-05 00:00:00</td>\n",
       "      <td>185.42</td>\n",
       "      <td>176</td>\n",
       "      <td>79.832257</td>\n",
       "    </tr>\n",
       "    <tr>\n",
       "      <th>33052</th>\n",
       "      <td>30893</td>\n",
       "      <td>2014-10-31</td>\n",
       "      <td>92.0</td>\n",
       "      <td>right</td>\n",
       "      <td>94.0</td>\n",
       "      <td>Cristiano Ronaldo</td>\n",
       "      <td>1985-02-05 00:00:00</td>\n",
       "      <td>185.42</td>\n",
       "      <td>176</td>\n",
       "      <td>79.832257</td>\n",
       "    </tr>\n",
       "    <tr>\n",
       "      <th>33053</th>\n",
       "      <td>30893</td>\n",
       "      <td>2014-09-18</td>\n",
       "      <td>92.0</td>\n",
       "      <td>right</td>\n",
       "      <td>94.0</td>\n",
       "      <td>Cristiano Ronaldo</td>\n",
       "      <td>1985-02-05 00:00:00</td>\n",
       "      <td>185.42</td>\n",
       "      <td>176</td>\n",
       "      <td>79.832257</td>\n",
       "    </tr>\n",
       "    <tr>\n",
       "      <th>33054</th>\n",
       "      <td>30893</td>\n",
       "      <td>2014-02-07</td>\n",
       "      <td>92.0</td>\n",
       "      <td>right</td>\n",
       "      <td>94.0</td>\n",
       "      <td>Cristiano Ronaldo</td>\n",
       "      <td>1985-02-05 00:00:00</td>\n",
       "      <td>185.42</td>\n",
       "      <td>176</td>\n",
       "      <td>79.832257</td>\n",
       "    </tr>\n",
       "    <tr>\n",
       "      <th>33055</th>\n",
       "      <td>30893</td>\n",
       "      <td>2014-01-17</td>\n",
       "      <td>92.0</td>\n",
       "      <td>right</td>\n",
       "      <td>94.0</td>\n",
       "      <td>Cristiano Ronaldo</td>\n",
       "      <td>1985-02-05 00:00:00</td>\n",
       "      <td>185.42</td>\n",
       "      <td>176</td>\n",
       "      <td>79.832257</td>\n",
       "    </tr>\n",
       "    <tr>\n",
       "      <th>33056</th>\n",
       "      <td>30893</td>\n",
       "      <td>2013-09-20</td>\n",
       "      <td>92.0</td>\n",
       "      <td>right</td>\n",
       "      <td>94.0</td>\n",
       "      <td>Cristiano Ronaldo</td>\n",
       "      <td>1985-02-05 00:00:00</td>\n",
       "      <td>185.42</td>\n",
       "      <td>176</td>\n",
       "      <td>79.832257</td>\n",
       "    </tr>\n",
       "    <tr>\n",
       "      <th>33057</th>\n",
       "      <td>30893</td>\n",
       "      <td>2013-03-22</td>\n",
       "      <td>92.0</td>\n",
       "      <td>right</td>\n",
       "      <td>94.0</td>\n",
       "      <td>Cristiano Ronaldo</td>\n",
       "      <td>1985-02-05 00:00:00</td>\n",
       "      <td>185.42</td>\n",
       "      <td>176</td>\n",
       "      <td>79.832257</td>\n",
       "    </tr>\n",
       "    <tr>\n",
       "      <th>33058</th>\n",
       "      <td>30893</td>\n",
       "      <td>2013-03-08</td>\n",
       "      <td>92.0</td>\n",
       "      <td>right</td>\n",
       "      <td>94.0</td>\n",
       "      <td>Cristiano Ronaldo</td>\n",
       "      <td>1985-02-05 00:00:00</td>\n",
       "      <td>185.42</td>\n",
       "      <td>176</td>\n",
       "      <td>79.832257</td>\n",
       "    </tr>\n",
       "    <tr>\n",
       "      <th>33059</th>\n",
       "      <td>30893</td>\n",
       "      <td>2013-03-01</td>\n",
       "      <td>92.0</td>\n",
       "      <td>right</td>\n",
       "      <td>94.0</td>\n",
       "      <td>Cristiano Ronaldo</td>\n",
       "      <td>1985-02-05 00:00:00</td>\n",
       "      <td>185.42</td>\n",
       "      <td>176</td>\n",
       "      <td>79.832257</td>\n",
       "    </tr>\n",
       "    <tr>\n",
       "      <th>33060</th>\n",
       "      <td>30893</td>\n",
       "      <td>2013-02-15</td>\n",
       "      <td>92.0</td>\n",
       "      <td>right</td>\n",
       "      <td>94.0</td>\n",
       "      <td>Cristiano Ronaldo</td>\n",
       "      <td>1985-02-05 00:00:00</td>\n",
       "      <td>185.42</td>\n",
       "      <td>176</td>\n",
       "      <td>79.832257</td>\n",
       "    </tr>\n",
       "    <tr>\n",
       "      <th>33061</th>\n",
       "      <td>30893</td>\n",
       "      <td>2012-08-31</td>\n",
       "      <td>92.0</td>\n",
       "      <td>right</td>\n",
       "      <td>94.0</td>\n",
       "      <td>Cristiano Ronaldo</td>\n",
       "      <td>1985-02-05 00:00:00</td>\n",
       "      <td>185.42</td>\n",
       "      <td>176</td>\n",
       "      <td>79.832257</td>\n",
       "    </tr>\n",
       "    <tr>\n",
       "      <th>33062</th>\n",
       "      <td>30893</td>\n",
       "      <td>2012-02-22</td>\n",
       "      <td>92.0</td>\n",
       "      <td>right</td>\n",
       "      <td>94.0</td>\n",
       "      <td>Cristiano Ronaldo</td>\n",
       "      <td>1985-02-05 00:00:00</td>\n",
       "      <td>185.42</td>\n",
       "      <td>176</td>\n",
       "      <td>79.832257</td>\n",
       "    </tr>\n",
       "    <tr>\n",
       "      <th>33063</th>\n",
       "      <td>30893</td>\n",
       "      <td>2011-08-30</td>\n",
       "      <td>92.0</td>\n",
       "      <td>right</td>\n",
       "      <td>94.0</td>\n",
       "      <td>Cristiano Ronaldo</td>\n",
       "      <td>1985-02-05 00:00:00</td>\n",
       "      <td>185.42</td>\n",
       "      <td>176</td>\n",
       "      <td>79.832257</td>\n",
       "    </tr>\n",
       "    <tr>\n",
       "      <th>33069</th>\n",
       "      <td>30893</td>\n",
       "      <td>2008-08-30</td>\n",
       "      <td>91.0</td>\n",
       "      <td>right</td>\n",
       "      <td>94.0</td>\n",
       "      <td>Cristiano Ronaldo</td>\n",
       "      <td>1985-02-05 00:00:00</td>\n",
       "      <td>185.42</td>\n",
       "      <td>176</td>\n",
       "      <td>79.832257</td>\n",
       "    </tr>\n",
       "    <tr>\n",
       "      <th>33070</th>\n",
       "      <td>30893</td>\n",
       "      <td>2007-08-30</td>\n",
       "      <td>91.0</td>\n",
       "      <td>right</td>\n",
       "      <td>94.0</td>\n",
       "      <td>Cristiano Ronaldo</td>\n",
       "      <td>1985-02-05 00:00:00</td>\n",
       "      <td>185.42</td>\n",
       "      <td>176</td>\n",
       "      <td>79.832257</td>\n",
       "    </tr>\n",
       "    <tr>\n",
       "      <th>52771</th>\n",
       "      <td>34520</td>\n",
       "      <td>2007-02-22</td>\n",
       "      <td>91.0</td>\n",
       "      <td>right</td>\n",
       "      <td>83.0</td>\n",
       "      <td>Fabio Cannavaro</td>\n",
       "      <td>1973-09-13 00:00:00</td>\n",
       "      <td>175.26</td>\n",
       "      <td>165</td>\n",
       "      <td>74.842741</td>\n",
       "    </tr>\n",
       "    <tr>\n",
       "      <th>63368</th>\n",
       "      <td>30717</td>\n",
       "      <td>2007-08-30</td>\n",
       "      <td>91.0</td>\n",
       "      <td>right</td>\n",
       "      <td>44.0</td>\n",
       "      <td>Gianluigi Buffon</td>\n",
       "      <td>1978-01-28 00:00:00</td>\n",
       "      <td>193.04</td>\n",
       "      <td>201</td>\n",
       "      <td>91.172066</td>\n",
       "    </tr>\n",
       "    <tr>\n",
       "      <th>63369</th>\n",
       "      <td>30717</td>\n",
       "      <td>2007-02-22</td>\n",
       "      <td>93.0</td>\n",
       "      <td>right</td>\n",
       "      <td>44.0</td>\n",
       "      <td>Gianluigi Buffon</td>\n",
       "      <td>1978-01-28 00:00:00</td>\n",
       "      <td>193.04</td>\n",
       "      <td>201</td>\n",
       "      <td>91.172066</td>\n",
       "    </tr>\n",
       "    <tr>\n",
       "      <th>66222</th>\n",
       "      <td>39989</td>\n",
       "      <td>2007-02-22</td>\n",
       "      <td>92.0</td>\n",
       "      <td>right</td>\n",
       "      <td>62.0</td>\n",
       "      <td>Gregory Coupet</td>\n",
       "      <td>1972-12-31 00:00:00</td>\n",
       "      <td>180.34</td>\n",
       "      <td>176</td>\n",
       "      <td>79.832257</td>\n",
       "    </tr>\n",
       "    <tr>\n",
       "      <th>72048</th>\n",
       "      <td>30657</td>\n",
       "      <td>2009-02-22</td>\n",
       "      <td>91.0</td>\n",
       "      <td>left</td>\n",
       "      <td>55.0</td>\n",
       "      <td>Iker Casillas</td>\n",
       "      <td>1981-05-20 00:00:00</td>\n",
       "      <td>185.42</td>\n",
       "      <td>185</td>\n",
       "      <td>83.914588</td>\n",
       "    </tr>\n",
       "    <tr>\n",
       "      <th>72049</th>\n",
       "      <td>30657</td>\n",
       "      <td>2008-08-30</td>\n",
       "      <td>91.0</td>\n",
       "      <td>left</td>\n",
       "      <td>55.0</td>\n",
       "      <td>Iker Casillas</td>\n",
       "      <td>1981-05-20 00:00:00</td>\n",
       "      <td>185.42</td>\n",
       "      <td>185</td>\n",
       "      <td>83.914588</td>\n",
       "    </tr>\n",
       "    <tr>\n",
       "      <th>84204</th>\n",
       "      <td>30627</td>\n",
       "      <td>2007-02-22</td>\n",
       "      <td>91.0</td>\n",
       "      <td>right</td>\n",
       "      <td>85.0</td>\n",
       "      <td>John Terry</td>\n",
       "      <td>1980-12-07 00:00:00</td>\n",
       "      <td>187.96</td>\n",
       "      <td>198</td>\n",
       "      <td>89.811289</td>\n",
       "    </tr>\n",
       "    <tr>\n",
       "      <th>101682</th>\n",
       "      <td>30981</td>\n",
       "      <td>2015-12-17</td>\n",
       "      <td>94.0</td>\n",
       "      <td>left</td>\n",
       "      <td>90.0</td>\n",
       "      <td>Lionel Messi</td>\n",
       "      <td>1987-06-24 00:00:00</td>\n",
       "      <td>170.18</td>\n",
       "      <td>159</td>\n",
       "      <td>72.121187</td>\n",
       "    </tr>\n",
       "    <tr>\n",
       "      <th>101683</th>\n",
       "      <td>30981</td>\n",
       "      <td>2015-10-16</td>\n",
       "      <td>94.0</td>\n",
       "      <td>left</td>\n",
       "      <td>90.0</td>\n",
       "      <td>Lionel Messi</td>\n",
       "      <td>1987-06-24 00:00:00</td>\n",
       "      <td>170.18</td>\n",
       "      <td>159</td>\n",
       "      <td>72.121187</td>\n",
       "    </tr>\n",
       "    <tr>\n",
       "      <th>101684</th>\n",
       "      <td>30981</td>\n",
       "      <td>2015-09-21</td>\n",
       "      <td>94.0</td>\n",
       "      <td>left</td>\n",
       "      <td>90.0</td>\n",
       "      <td>Lionel Messi</td>\n",
       "      <td>1987-06-24 00:00:00</td>\n",
       "      <td>170.18</td>\n",
       "      <td>159</td>\n",
       "      <td>72.121187</td>\n",
       "    </tr>\n",
       "    <tr>\n",
       "      <th>101685</th>\n",
       "      <td>30981</td>\n",
       "      <td>2015-06-26</td>\n",
       "      <td>93.0</td>\n",
       "      <td>left</td>\n",
       "      <td>90.0</td>\n",
       "      <td>Lionel Messi</td>\n",
       "      <td>1987-06-24 00:00:00</td>\n",
       "      <td>170.18</td>\n",
       "      <td>159</td>\n",
       "      <td>72.121187</td>\n",
       "    </tr>\n",
       "    <tr>\n",
       "      <th>101686</th>\n",
       "      <td>30981</td>\n",
       "      <td>2015-03-13</td>\n",
       "      <td>93.0</td>\n",
       "      <td>left</td>\n",
       "      <td>90.0</td>\n",
       "      <td>Lionel Messi</td>\n",
       "      <td>1987-06-24 00:00:00</td>\n",
       "      <td>170.18</td>\n",
       "      <td>159</td>\n",
       "      <td>72.121187</td>\n",
       "    </tr>\n",
       "    <tr>\n",
       "      <th>101687</th>\n",
       "      <td>30981</td>\n",
       "      <td>2015-02-20</td>\n",
       "      <td>93.0</td>\n",
       "      <td>left</td>\n",
       "      <td>90.0</td>\n",
       "      <td>Lionel Messi</td>\n",
       "      <td>1987-06-24 00:00:00</td>\n",
       "      <td>170.18</td>\n",
       "      <td>159</td>\n",
       "      <td>72.121187</td>\n",
       "    </tr>\n",
       "    <tr>\n",
       "      <th>101688</th>\n",
       "      <td>30981</td>\n",
       "      <td>2015-01-23</td>\n",
       "      <td>93.0</td>\n",
       "      <td>left</td>\n",
       "      <td>90.0</td>\n",
       "      <td>Lionel Messi</td>\n",
       "      <td>1987-06-24 00:00:00</td>\n",
       "      <td>170.18</td>\n",
       "      <td>159</td>\n",
       "      <td>72.121187</td>\n",
       "    </tr>\n",
       "    <tr>\n",
       "      <th>101689</th>\n",
       "      <td>30981</td>\n",
       "      <td>2014-10-17</td>\n",
       "      <td>93.0</td>\n",
       "      <td>left</td>\n",
       "      <td>90.0</td>\n",
       "      <td>Lionel Messi</td>\n",
       "      <td>1987-06-24 00:00:00</td>\n",
       "      <td>170.18</td>\n",
       "      <td>159</td>\n",
       "      <td>72.121187</td>\n",
       "    </tr>\n",
       "    <tr>\n",
       "      <th>101690</th>\n",
       "      <td>30981</td>\n",
       "      <td>2014-09-18</td>\n",
       "      <td>93.0</td>\n",
       "      <td>left</td>\n",
       "      <td>90.0</td>\n",
       "      <td>Lionel Messi</td>\n",
       "      <td>1987-06-24 00:00:00</td>\n",
       "      <td>170.18</td>\n",
       "      <td>159</td>\n",
       "      <td>72.121187</td>\n",
       "    </tr>\n",
       "    <tr>\n",
       "      <th>101691</th>\n",
       "      <td>30981</td>\n",
       "      <td>2014-04-25</td>\n",
       "      <td>94.0</td>\n",
       "      <td>left</td>\n",
       "      <td>88.0</td>\n",
       "      <td>Lionel Messi</td>\n",
       "      <td>1987-06-24 00:00:00</td>\n",
       "      <td>170.18</td>\n",
       "      <td>159</td>\n",
       "      <td>72.121187</td>\n",
       "    </tr>\n",
       "    <tr>\n",
       "      <th>101692</th>\n",
       "      <td>30981</td>\n",
       "      <td>2013-11-15</td>\n",
       "      <td>94.0</td>\n",
       "      <td>left</td>\n",
       "      <td>88.0</td>\n",
       "      <td>Lionel Messi</td>\n",
       "      <td>1987-06-24 00:00:00</td>\n",
       "      <td>170.18</td>\n",
       "      <td>159</td>\n",
       "      <td>72.121187</td>\n",
       "    </tr>\n",
       "    <tr>\n",
       "      <th>101693</th>\n",
       "      <td>30981</td>\n",
       "      <td>2013-09-20</td>\n",
       "      <td>94.0</td>\n",
       "      <td>left</td>\n",
       "      <td>88.0</td>\n",
       "      <td>Lionel Messi</td>\n",
       "      <td>1987-06-24 00:00:00</td>\n",
       "      <td>170.18</td>\n",
       "      <td>159</td>\n",
       "      <td>72.121187</td>\n",
       "    </tr>\n",
       "    <tr>\n",
       "      <th>101694</th>\n",
       "      <td>30981</td>\n",
       "      <td>2013-03-22</td>\n",
       "      <td>94.0</td>\n",
       "      <td>left</td>\n",
       "      <td>91.0</td>\n",
       "      <td>Lionel Messi</td>\n",
       "      <td>1987-06-24 00:00:00</td>\n",
       "      <td>170.18</td>\n",
       "      <td>159</td>\n",
       "      <td>72.121187</td>\n",
       "    </tr>\n",
       "    <tr>\n",
       "      <th>101695</th>\n",
       "      <td>30981</td>\n",
       "      <td>2013-03-08</td>\n",
       "      <td>94.0</td>\n",
       "      <td>left</td>\n",
       "      <td>91.0</td>\n",
       "      <td>Lionel Messi</td>\n",
       "      <td>1987-06-24 00:00:00</td>\n",
       "      <td>170.18</td>\n",
       "      <td>159</td>\n",
       "      <td>72.121187</td>\n",
       "    </tr>\n",
       "    <tr>\n",
       "      <th>101696</th>\n",
       "      <td>30981</td>\n",
       "      <td>2013-02-15</td>\n",
       "      <td>94.0</td>\n",
       "      <td>left</td>\n",
       "      <td>91.0</td>\n",
       "      <td>Lionel Messi</td>\n",
       "      <td>1987-06-24 00:00:00</td>\n",
       "      <td>170.18</td>\n",
       "      <td>159</td>\n",
       "      <td>72.121187</td>\n",
       "    </tr>\n",
       "    <tr>\n",
       "      <th>101697</th>\n",
       "      <td>30981</td>\n",
       "      <td>2012-08-31</td>\n",
       "      <td>94.0</td>\n",
       "      <td>left</td>\n",
       "      <td>92.0</td>\n",
       "      <td>Lionel Messi</td>\n",
       "      <td>1987-06-24 00:00:00</td>\n",
       "      <td>170.18</td>\n",
       "      <td>159</td>\n",
       "      <td>72.121187</td>\n",
       "    </tr>\n",
       "    <tr>\n",
       "      <th>101698</th>\n",
       "      <td>30981</td>\n",
       "      <td>2012-02-22</td>\n",
       "      <td>94.0</td>\n",
       "      <td>left</td>\n",
       "      <td>92.0</td>\n",
       "      <td>Lionel Messi</td>\n",
       "      <td>1987-06-24 00:00:00</td>\n",
       "      <td>170.18</td>\n",
       "      <td>159</td>\n",
       "      <td>72.121187</td>\n",
       "    </tr>\n",
       "    <tr>\n",
       "      <th>101699</th>\n",
       "      <td>30981</td>\n",
       "      <td>2011-08-30</td>\n",
       "      <td>94.0</td>\n",
       "      <td>left</td>\n",
       "      <td>92.0</td>\n",
       "      <td>Lionel Messi</td>\n",
       "      <td>1987-06-24 00:00:00</td>\n",
       "      <td>170.18</td>\n",
       "      <td>159</td>\n",
       "      <td>72.121187</td>\n",
       "    </tr>\n",
       "    <tr>\n",
       "      <th>152101</th>\n",
       "      <td>30743</td>\n",
       "      <td>2007-08-30</td>\n",
       "      <td>91.0</td>\n",
       "      <td>right</td>\n",
       "      <td>91.0</td>\n",
       "      <td>Ronaldinho</td>\n",
       "      <td>1980-03-21 00:00:00</td>\n",
       "      <td>182.88</td>\n",
       "      <td>168</td>\n",
       "      <td>76.203518</td>\n",
       "    </tr>\n",
       "    <tr>\n",
       "      <th>152102</th>\n",
       "      <td>30743</td>\n",
       "      <td>2007-02-22</td>\n",
       "      <td>91.0</td>\n",
       "      <td>right</td>\n",
       "      <td>93.0</td>\n",
       "      <td>Ronaldinho</td>\n",
       "      <td>1980-03-21 00:00:00</td>\n",
       "      <td>182.88</td>\n",
       "      <td>168</td>\n",
       "      <td>76.203518</td>\n",
       "    </tr>\n",
       "    <tr>\n",
       "      <th>168534</th>\n",
       "      <td>30626</td>\n",
       "      <td>2007-08-30</td>\n",
       "      <td>91.0</td>\n",
       "      <td>right</td>\n",
       "      <td>93.0</td>\n",
       "      <td>Thierry Henry</td>\n",
       "      <td>1977-08-17 00:00:00</td>\n",
       "      <td>187.96</td>\n",
       "      <td>183</td>\n",
       "      <td>83.007404</td>\n",
       "    </tr>\n",
       "    <tr>\n",
       "      <th>168535</th>\n",
       "      <td>30626</td>\n",
       "      <td>2007-02-22</td>\n",
       "      <td>91.0</td>\n",
       "      <td>right</td>\n",
       "      <td>92.0</td>\n",
       "      <td>Thierry Henry</td>\n",
       "      <td>1977-08-17 00:00:00</td>\n",
       "      <td>187.96</td>\n",
       "      <td>183</td>\n",
       "      <td>83.007404</td>\n",
       "    </tr>\n",
       "    <tr>\n",
       "      <th>177448</th>\n",
       "      <td>30829</td>\n",
       "      <td>2007-02-22</td>\n",
       "      <td>93.0</td>\n",
       "      <td>right</td>\n",
       "      <td>90.0</td>\n",
       "      <td>Wayne Rooney</td>\n",
       "      <td>1985-10-24 00:00:00</td>\n",
       "      <td>175.26</td>\n",
       "      <td>183</td>\n",
       "      <td>83.007404</td>\n",
       "    </tr>\n",
       "    <tr>\n",
       "      <th>179189</th>\n",
       "      <td>39854</td>\n",
       "      <td>2012-02-22</td>\n",
       "      <td>91.0</td>\n",
       "      <td>right</td>\n",
       "      <td>66.0</td>\n",
       "      <td>Xavi Hernandez</td>\n",
       "      <td>1980-01-25 00:00:00</td>\n",
       "      <td>170.18</td>\n",
       "      <td>148</td>\n",
       "      <td>67.131671</td>\n",
       "    </tr>\n",
       "    <tr>\n",
       "      <th>179190</th>\n",
       "      <td>39854</td>\n",
       "      <td>2011-08-30</td>\n",
       "      <td>92.0</td>\n",
       "      <td>right</td>\n",
       "      <td>66.0</td>\n",
       "      <td>Xavi Hernandez</td>\n",
       "      <td>1980-01-25 00:00:00</td>\n",
       "      <td>170.18</td>\n",
       "      <td>148</td>\n",
       "      <td>67.131671</td>\n",
       "    </tr>\n",
       "  </tbody>\n",
       "</table>\n",
       "</div>"
      ],
      "text/plain": [
       "        player_api_id        date  overall_rating preferred_foot  \\\n",
       "6452            30723  2007-08-30            91.0          right   \n",
       "6453            30723  2007-02-22            91.0          right   \n",
       "12667           30955  2012-02-22            91.0          right   \n",
       "12668           30955  2011-08-30            91.0          right   \n",
       "33047           30893  2015-10-16            93.0          right   \n",
       "33048           30893  2015-09-25            93.0          right   \n",
       "33049           30893  2015-09-21            93.0          right   \n",
       "33050           30893  2015-05-15            92.0          right   \n",
       "33051           30893  2015-04-17            92.0          right   \n",
       "33052           30893  2014-10-31            92.0          right   \n",
       "33053           30893  2014-09-18            92.0          right   \n",
       "33054           30893  2014-02-07            92.0          right   \n",
       "33055           30893  2014-01-17            92.0          right   \n",
       "33056           30893  2013-09-20            92.0          right   \n",
       "33057           30893  2013-03-22            92.0          right   \n",
       "33058           30893  2013-03-08            92.0          right   \n",
       "33059           30893  2013-03-01            92.0          right   \n",
       "33060           30893  2013-02-15            92.0          right   \n",
       "33061           30893  2012-08-31            92.0          right   \n",
       "33062           30893  2012-02-22            92.0          right   \n",
       "33063           30893  2011-08-30            92.0          right   \n",
       "33069           30893  2008-08-30            91.0          right   \n",
       "33070           30893  2007-08-30            91.0          right   \n",
       "52771           34520  2007-02-22            91.0          right   \n",
       "63368           30717  2007-08-30            91.0          right   \n",
       "63369           30717  2007-02-22            93.0          right   \n",
       "66222           39989  2007-02-22            92.0          right   \n",
       "72048           30657  2009-02-22            91.0           left   \n",
       "72049           30657  2008-08-30            91.0           left   \n",
       "84204           30627  2007-02-22            91.0          right   \n",
       "101682          30981  2015-12-17            94.0           left   \n",
       "101683          30981  2015-10-16            94.0           left   \n",
       "101684          30981  2015-09-21            94.0           left   \n",
       "101685          30981  2015-06-26            93.0           left   \n",
       "101686          30981  2015-03-13            93.0           left   \n",
       "101687          30981  2015-02-20            93.0           left   \n",
       "101688          30981  2015-01-23            93.0           left   \n",
       "101689          30981  2014-10-17            93.0           left   \n",
       "101690          30981  2014-09-18            93.0           left   \n",
       "101691          30981  2014-04-25            94.0           left   \n",
       "101692          30981  2013-11-15            94.0           left   \n",
       "101693          30981  2013-09-20            94.0           left   \n",
       "101694          30981  2013-03-22            94.0           left   \n",
       "101695          30981  2013-03-08            94.0           left   \n",
       "101696          30981  2013-02-15            94.0           left   \n",
       "101697          30981  2012-08-31            94.0           left   \n",
       "101698          30981  2012-02-22            94.0           left   \n",
       "101699          30981  2011-08-30            94.0           left   \n",
       "152101          30743  2007-08-30            91.0          right   \n",
       "152102          30743  2007-02-22            91.0          right   \n",
       "168534          30626  2007-08-30            91.0          right   \n",
       "168535          30626  2007-02-22            91.0          right   \n",
       "177448          30829  2007-02-22            93.0          right   \n",
       "179189          39854  2012-02-22            91.0          right   \n",
       "179190          39854  2011-08-30            92.0          right   \n",
       "\n",
       "        sprint_speed        player_name             birthday  height  weight  \\\n",
       "6452            78.0   Alessandro Nesta  1976-03-19 00:00:00  187.96     174   \n",
       "6453            88.0   Alessandro Nesta  1976-03-19 00:00:00  187.96     174   \n",
       "12667           74.0     Andres Iniesta  1984-05-11 00:00:00  170.18     150   \n",
       "12668           75.0     Andres Iniesta  1984-05-11 00:00:00  170.18     150   \n",
       "33047           93.0  Cristiano Ronaldo  1985-02-05 00:00:00  185.42     176   \n",
       "33048           93.0  Cristiano Ronaldo  1985-02-05 00:00:00  185.42     176   \n",
       "33049           93.0  Cristiano Ronaldo  1985-02-05 00:00:00  185.42     176   \n",
       "33050           94.0  Cristiano Ronaldo  1985-02-05 00:00:00  185.42     176   \n",
       "33051           94.0  Cristiano Ronaldo  1985-02-05 00:00:00  185.42     176   \n",
       "33052           94.0  Cristiano Ronaldo  1985-02-05 00:00:00  185.42     176   \n",
       "33053           94.0  Cristiano Ronaldo  1985-02-05 00:00:00  185.42     176   \n",
       "33054           94.0  Cristiano Ronaldo  1985-02-05 00:00:00  185.42     176   \n",
       "33055           94.0  Cristiano Ronaldo  1985-02-05 00:00:00  185.42     176   \n",
       "33056           94.0  Cristiano Ronaldo  1985-02-05 00:00:00  185.42     176   \n",
       "33057           94.0  Cristiano Ronaldo  1985-02-05 00:00:00  185.42     176   \n",
       "33058           94.0  Cristiano Ronaldo  1985-02-05 00:00:00  185.42     176   \n",
       "33059           94.0  Cristiano Ronaldo  1985-02-05 00:00:00  185.42     176   \n",
       "33060           94.0  Cristiano Ronaldo  1985-02-05 00:00:00  185.42     176   \n",
       "33061           94.0  Cristiano Ronaldo  1985-02-05 00:00:00  185.42     176   \n",
       "33062           94.0  Cristiano Ronaldo  1985-02-05 00:00:00  185.42     176   \n",
       "33063           94.0  Cristiano Ronaldo  1985-02-05 00:00:00  185.42     176   \n",
       "33069           94.0  Cristiano Ronaldo  1985-02-05 00:00:00  185.42     176   \n",
       "33070           94.0  Cristiano Ronaldo  1985-02-05 00:00:00  185.42     176   \n",
       "52771           83.0    Fabio Cannavaro  1973-09-13 00:00:00  175.26     165   \n",
       "63368           44.0   Gianluigi Buffon  1978-01-28 00:00:00  193.04     201   \n",
       "63369           44.0   Gianluigi Buffon  1978-01-28 00:00:00  193.04     201   \n",
       "66222           62.0     Gregory Coupet  1972-12-31 00:00:00  180.34     176   \n",
       "72048           55.0      Iker Casillas  1981-05-20 00:00:00  185.42     185   \n",
       "72049           55.0      Iker Casillas  1981-05-20 00:00:00  185.42     185   \n",
       "84204           85.0         John Terry  1980-12-07 00:00:00  187.96     198   \n",
       "101682          90.0       Lionel Messi  1987-06-24 00:00:00  170.18     159   \n",
       "101683          90.0       Lionel Messi  1987-06-24 00:00:00  170.18     159   \n",
       "101684          90.0       Lionel Messi  1987-06-24 00:00:00  170.18     159   \n",
       "101685          90.0       Lionel Messi  1987-06-24 00:00:00  170.18     159   \n",
       "101686          90.0       Lionel Messi  1987-06-24 00:00:00  170.18     159   \n",
       "101687          90.0       Lionel Messi  1987-06-24 00:00:00  170.18     159   \n",
       "101688          90.0       Lionel Messi  1987-06-24 00:00:00  170.18     159   \n",
       "101689          90.0       Lionel Messi  1987-06-24 00:00:00  170.18     159   \n",
       "101690          90.0       Lionel Messi  1987-06-24 00:00:00  170.18     159   \n",
       "101691          88.0       Lionel Messi  1987-06-24 00:00:00  170.18     159   \n",
       "101692          88.0       Lionel Messi  1987-06-24 00:00:00  170.18     159   \n",
       "101693          88.0       Lionel Messi  1987-06-24 00:00:00  170.18     159   \n",
       "101694          91.0       Lionel Messi  1987-06-24 00:00:00  170.18     159   \n",
       "101695          91.0       Lionel Messi  1987-06-24 00:00:00  170.18     159   \n",
       "101696          91.0       Lionel Messi  1987-06-24 00:00:00  170.18     159   \n",
       "101697          92.0       Lionel Messi  1987-06-24 00:00:00  170.18     159   \n",
       "101698          92.0       Lionel Messi  1987-06-24 00:00:00  170.18     159   \n",
       "101699          92.0       Lionel Messi  1987-06-24 00:00:00  170.18     159   \n",
       "152101          91.0         Ronaldinho  1980-03-21 00:00:00  182.88     168   \n",
       "152102          93.0         Ronaldinho  1980-03-21 00:00:00  182.88     168   \n",
       "168534          93.0      Thierry Henry  1977-08-17 00:00:00  187.96     183   \n",
       "168535          92.0      Thierry Henry  1977-08-17 00:00:00  187.96     183   \n",
       "177448          90.0       Wayne Rooney  1985-10-24 00:00:00  175.26     183   \n",
       "179189          66.0     Xavi Hernandez  1980-01-25 00:00:00  170.18     148   \n",
       "179190          66.0     Xavi Hernandez  1980-01-25 00:00:00  170.18     148   \n",
       "\n",
       "        weight_kg  \n",
       "6452    78.925072  \n",
       "6453    78.925072  \n",
       "12667   68.038856  \n",
       "12668   68.038856  \n",
       "33047   79.832257  \n",
       "33048   79.832257  \n",
       "33049   79.832257  \n",
       "33050   79.832257  \n",
       "33051   79.832257  \n",
       "33052   79.832257  \n",
       "33053   79.832257  \n",
       "33054   79.832257  \n",
       "33055   79.832257  \n",
       "33056   79.832257  \n",
       "33057   79.832257  \n",
       "33058   79.832257  \n",
       "33059   79.832257  \n",
       "33060   79.832257  \n",
       "33061   79.832257  \n",
       "33062   79.832257  \n",
       "33063   79.832257  \n",
       "33069   79.832257  \n",
       "33070   79.832257  \n",
       "52771   74.842741  \n",
       "63368   91.172066  \n",
       "63369   91.172066  \n",
       "66222   79.832257  \n",
       "72048   83.914588  \n",
       "72049   83.914588  \n",
       "84204   89.811289  \n",
       "101682  72.121187  \n",
       "101683  72.121187  \n",
       "101684  72.121187  \n",
       "101685  72.121187  \n",
       "101686  72.121187  \n",
       "101687  72.121187  \n",
       "101688  72.121187  \n",
       "101689  72.121187  \n",
       "101690  72.121187  \n",
       "101691  72.121187  \n",
       "101692  72.121187  \n",
       "101693  72.121187  \n",
       "101694  72.121187  \n",
       "101695  72.121187  \n",
       "101696  72.121187  \n",
       "101697  72.121187  \n",
       "101698  72.121187  \n",
       "101699  72.121187  \n",
       "152101  76.203518  \n",
       "152102  76.203518  \n",
       "168534  83.007404  \n",
       "168535  83.007404  \n",
       "177448  83.007404  \n",
       "179189  67.131671  \n",
       "179190  67.131671  "
      ]
     },
     "execution_count": 140,
     "metadata": {},
     "output_type": "execute_result"
    }
   ],
   "source": [
    "# find players with an overall_rating above 90 during their carrer\n",
    "top_player = df_p.query('overall_rating > 90')\n",
    "\n",
    "# show players\n",
    "top_player"
   ]
  },
  {
   "cell_type": "code",
   "execution_count": 141,
   "metadata": {},
   "outputs": [
    {
     "data": {
      "text/plain": [
       "Text(0,0.5,'Overall Rating')"
      ]
     },
     "execution_count": 141,
     "metadata": {},
     "output_type": "execute_result"
    },
    {
     "data": {
      "image/png": "[encoded data removed]",
      "text/plain": [
       "<matplotlib.figure.Figure at 0x7f70bcd036a0>"
      ]
     },
     "metadata": {
      "needs_background": "light"
     },
     "output_type": "display_data"
    }
   ],
   "source": [
    "# create bar plot grouped by the player_name considering the best overall_rating achieved in their carrer\n",
    "df_t_p = top_player.groupby('player_name')['overall_rating'].max().plot(kind='bar')\n",
    "df_t_p.set_ylim(85,95) # set the y axis to 85-95 for better difference overview\n",
    "plt.title('Player overall rating above 90')\n",
    "plt.xlabel('Player Name')\n",
    "plt.ylabel('Overall Rating')"
   ]
  },
  {
   "cell_type": "markdown",
   "metadata": {},
   "source": [
    "There are a few players with an overall rating above 90 during their carrer.\n",
    "\n",
    "The players are:\n",
    "\n",
    "    1. Lionel Messi:       94\n",
    "    2. Christiano Ronaldo: 93\n",
    "    2. Gianluigi Buffon:   93\n",
    "    2. Ronaldinho:         93\n",
    "    3. Gregory Coupet:     92\n",
    "    3. Xavi Hernandez:     92\n",
    "    4. Allesandro Nesta:   91\n",
    "    4. Andres Iniesta:     91\n",
    "    4. Fabio Cannavaro:    91\n",
    "    4. Iker Casillas:      91\n",
    "    4. John Terry:         91\n",
    "    4. Ronaldinho:         91\n",
    "    4. Thierry Henry:      91\n",
    "\n",
    "Lionel Messi is the player with the highest overall rating during his carrer."
   ]
  },
  {
   "cell_type": "markdown",
   "metadata": {},
   "source": [
    "### Research Question 2:  Who is the fastest player?"
   ]
  },
  {
   "cell_type": "code",
   "execution_count": 142,
   "metadata": {},
   "outputs": [
    {
     "data": {
      "text/plain": [
       "97.0"
      ]
     },
     "execution_count": 142,
     "metadata": {},
     "output_type": "execute_result"
    }
   ],
   "source": [
    "# get max speed value\n",
    "df_p.sprint_speed.max()"
   ]
  },
  {
   "cell_type": "markdown",
   "metadata": {},
   "source": [
    "The highest speed from a player is 97"
   ]
  },
  {
   "cell_type": "code",
   "execution_count": 143,
   "metadata": {},
   "outputs": [
    {
     "data": {
      "text/html": [
       "<div>\n",
       "<style>\n",
       "    .dataframe thead tr:only-child th {\n",
       "        text-align: right;\n",
       "    }\n",
       "\n",
       "    .dataframe thead th {\n",
       "        text-align: left;\n",
       "    }\n",
       "\n",
       "    .dataframe tbody tr th {\n",
       "        vertical-align: top;\n",
       "    }\n",
       "</style>\n",
       "<table border=\"1\" class=\"dataframe\">\n",
       "  <thead>\n",
       "    <tr style=\"text-align: right;\">\n",
       "      <th></th>\n",
       "      <th>player_api_id</th>\n",
       "      <th>date</th>\n",
       "      <th>overall_rating</th>\n",
       "      <th>preferred_foot</th>\n",
       "      <th>sprint_speed</th>\n",
       "      <th>player_name</th>\n",
       "      <th>birthday</th>\n",
       "      <th>height</th>\n",
       "      <th>weight</th>\n",
       "      <th>weight_kg</th>\n",
       "    </tr>\n",
       "  </thead>\n",
       "  <tbody>\n",
       "    <tr>\n",
       "      <th>39841</th>\n",
       "      <td>38243</td>\n",
       "      <td>2008-08-30</td>\n",
       "      <td>70.0</td>\n",
       "      <td>right</td>\n",
       "      <td>97.0</td>\n",
       "      <td>David Odonkor</td>\n",
       "      <td>1984-02-21 00:00:00</td>\n",
       "      <td>172.72</td>\n",
       "      <td>163</td>\n",
       "      <td>73.935556</td>\n",
       "    </tr>\n",
       "    <tr>\n",
       "      <th>117390</th>\n",
       "      <td>120428</td>\n",
       "      <td>2015-01-09</td>\n",
       "      <td>64.0</td>\n",
       "      <td>right</td>\n",
       "      <td>97.0</td>\n",
       "      <td>Mathis Bolly</td>\n",
       "      <td>1990-11-14 00:00:00</td>\n",
       "      <td>185.42</td>\n",
       "      <td>170</td>\n",
       "      <td>77.110703</td>\n",
       "    </tr>\n",
       "    <tr>\n",
       "      <th>117391</th>\n",
       "      <td>120428</td>\n",
       "      <td>2014-11-21</td>\n",
       "      <td>64.0</td>\n",
       "      <td>right</td>\n",
       "      <td>97.0</td>\n",
       "      <td>Mathis Bolly</td>\n",
       "      <td>1990-11-14 00:00:00</td>\n",
       "      <td>185.42</td>\n",
       "      <td>170</td>\n",
       "      <td>77.110703</td>\n",
       "    </tr>\n",
       "    <tr>\n",
       "      <th>117392</th>\n",
       "      <td>120428</td>\n",
       "      <td>2014-09-18</td>\n",
       "      <td>64.0</td>\n",
       "      <td>right</td>\n",
       "      <td>97.0</td>\n",
       "      <td>Mathis Bolly</td>\n",
       "      <td>1990-11-14 00:00:00</td>\n",
       "      <td>185.42</td>\n",
       "      <td>170</td>\n",
       "      <td>77.110703</td>\n",
       "    </tr>\n",
       "    <tr>\n",
       "      <th>117393</th>\n",
       "      <td>120428</td>\n",
       "      <td>2014-05-16</td>\n",
       "      <td>64.0</td>\n",
       "      <td>right</td>\n",
       "      <td>97.0</td>\n",
       "      <td>Mathis Bolly</td>\n",
       "      <td>1990-11-14 00:00:00</td>\n",
       "      <td>185.42</td>\n",
       "      <td>170</td>\n",
       "      <td>77.110703</td>\n",
       "    </tr>\n",
       "    <tr>\n",
       "      <th>117394</th>\n",
       "      <td>120428</td>\n",
       "      <td>2014-05-09</td>\n",
       "      <td>64.0</td>\n",
       "      <td>right</td>\n",
       "      <td>97.0</td>\n",
       "      <td>Mathis Bolly</td>\n",
       "      <td>1990-11-14 00:00:00</td>\n",
       "      <td>185.42</td>\n",
       "      <td>170</td>\n",
       "      <td>77.110703</td>\n",
       "    </tr>\n",
       "    <tr>\n",
       "      <th>117395</th>\n",
       "      <td>120428</td>\n",
       "      <td>2014-03-07</td>\n",
       "      <td>65.0</td>\n",
       "      <td>right</td>\n",
       "      <td>97.0</td>\n",
       "      <td>Mathis Bolly</td>\n",
       "      <td>1990-11-14 00:00:00</td>\n",
       "      <td>185.42</td>\n",
       "      <td>170</td>\n",
       "      <td>77.110703</td>\n",
       "    </tr>\n",
       "    <tr>\n",
       "      <th>117396</th>\n",
       "      <td>120428</td>\n",
       "      <td>2014-02-28</td>\n",
       "      <td>65.0</td>\n",
       "      <td>right</td>\n",
       "      <td>97.0</td>\n",
       "      <td>Mathis Bolly</td>\n",
       "      <td>1990-11-14 00:00:00</td>\n",
       "      <td>185.42</td>\n",
       "      <td>170</td>\n",
       "      <td>77.110703</td>\n",
       "    </tr>\n",
       "    <tr>\n",
       "      <th>117397</th>\n",
       "      <td>120428</td>\n",
       "      <td>2014-02-07</td>\n",
       "      <td>65.0</td>\n",
       "      <td>right</td>\n",
       "      <td>97.0</td>\n",
       "      <td>Mathis Bolly</td>\n",
       "      <td>1990-11-14 00:00:00</td>\n",
       "      <td>185.42</td>\n",
       "      <td>170</td>\n",
       "      <td>77.110703</td>\n",
       "    </tr>\n",
       "    <tr>\n",
       "      <th>117398</th>\n",
       "      <td>120428</td>\n",
       "      <td>2014-01-31</td>\n",
       "      <td>65.0</td>\n",
       "      <td>right</td>\n",
       "      <td>97.0</td>\n",
       "      <td>Mathis Bolly</td>\n",
       "      <td>1990-11-14 00:00:00</td>\n",
       "      <td>185.42</td>\n",
       "      <td>170</td>\n",
       "      <td>77.110703</td>\n",
       "    </tr>\n",
       "    <tr>\n",
       "      <th>117399</th>\n",
       "      <td>120428</td>\n",
       "      <td>2014-01-17</td>\n",
       "      <td>65.0</td>\n",
       "      <td>right</td>\n",
       "      <td>97.0</td>\n",
       "      <td>Mathis Bolly</td>\n",
       "      <td>1990-11-14 00:00:00</td>\n",
       "      <td>185.42</td>\n",
       "      <td>170</td>\n",
       "      <td>77.110703</td>\n",
       "    </tr>\n",
       "    <tr>\n",
       "      <th>117400</th>\n",
       "      <td>120428</td>\n",
       "      <td>2013-11-29</td>\n",
       "      <td>65.0</td>\n",
       "      <td>right</td>\n",
       "      <td>97.0</td>\n",
       "      <td>Mathis Bolly</td>\n",
       "      <td>1990-11-14 00:00:00</td>\n",
       "      <td>185.42</td>\n",
       "      <td>170</td>\n",
       "      <td>77.110703</td>\n",
       "    </tr>\n",
       "    <tr>\n",
       "      <th>117401</th>\n",
       "      <td>120428</td>\n",
       "      <td>2013-10-18</td>\n",
       "      <td>65.0</td>\n",
       "      <td>right</td>\n",
       "      <td>97.0</td>\n",
       "      <td>Mathis Bolly</td>\n",
       "      <td>1990-11-14 00:00:00</td>\n",
       "      <td>185.42</td>\n",
       "      <td>170</td>\n",
       "      <td>77.110703</td>\n",
       "    </tr>\n",
       "    <tr>\n",
       "      <th>117402</th>\n",
       "      <td>120428</td>\n",
       "      <td>2013-10-04</td>\n",
       "      <td>65.0</td>\n",
       "      <td>right</td>\n",
       "      <td>97.0</td>\n",
       "      <td>Mathis Bolly</td>\n",
       "      <td>1990-11-14 00:00:00</td>\n",
       "      <td>185.42</td>\n",
       "      <td>170</td>\n",
       "      <td>77.110703</td>\n",
       "    </tr>\n",
       "    <tr>\n",
       "      <th>117403</th>\n",
       "      <td>120428</td>\n",
       "      <td>2013-09-27</td>\n",
       "      <td>65.0</td>\n",
       "      <td>right</td>\n",
       "      <td>97.0</td>\n",
       "      <td>Mathis Bolly</td>\n",
       "      <td>1990-11-14 00:00:00</td>\n",
       "      <td>185.42</td>\n",
       "      <td>170</td>\n",
       "      <td>77.110703</td>\n",
       "    </tr>\n",
       "    <tr>\n",
       "      <th>117404</th>\n",
       "      <td>120428</td>\n",
       "      <td>2013-09-20</td>\n",
       "      <td>66.0</td>\n",
       "      <td>right</td>\n",
       "      <td>97.0</td>\n",
       "      <td>Mathis Bolly</td>\n",
       "      <td>1990-11-14 00:00:00</td>\n",
       "      <td>185.42</td>\n",
       "      <td>170</td>\n",
       "      <td>77.110703</td>\n",
       "    </tr>\n",
       "    <tr>\n",
       "      <th>117405</th>\n",
       "      <td>120428</td>\n",
       "      <td>2013-05-31</td>\n",
       "      <td>64.0</td>\n",
       "      <td>right</td>\n",
       "      <td>97.0</td>\n",
       "      <td>Mathis Bolly</td>\n",
       "      <td>1990-11-14 00:00:00</td>\n",
       "      <td>185.42</td>\n",
       "      <td>170</td>\n",
       "      <td>77.110703</td>\n",
       "    </tr>\n",
       "    <tr>\n",
       "      <th>117406</th>\n",
       "      <td>120428</td>\n",
       "      <td>2013-04-26</td>\n",
       "      <td>64.0</td>\n",
       "      <td>right</td>\n",
       "      <td>97.0</td>\n",
       "      <td>Mathis Bolly</td>\n",
       "      <td>1990-11-14 00:00:00</td>\n",
       "      <td>185.42</td>\n",
       "      <td>170</td>\n",
       "      <td>77.110703</td>\n",
       "    </tr>\n",
       "    <tr>\n",
       "      <th>117407</th>\n",
       "      <td>120428</td>\n",
       "      <td>2013-04-19</td>\n",
       "      <td>64.0</td>\n",
       "      <td>right</td>\n",
       "      <td>97.0</td>\n",
       "      <td>Mathis Bolly</td>\n",
       "      <td>1990-11-14 00:00:00</td>\n",
       "      <td>185.42</td>\n",
       "      <td>170</td>\n",
       "      <td>77.110703</td>\n",
       "    </tr>\n",
       "    <tr>\n",
       "      <th>117408</th>\n",
       "      <td>120428</td>\n",
       "      <td>2013-04-12</td>\n",
       "      <td>64.0</td>\n",
       "      <td>right</td>\n",
       "      <td>97.0</td>\n",
       "      <td>Mathis Bolly</td>\n",
       "      <td>1990-11-14 00:00:00</td>\n",
       "      <td>185.42</td>\n",
       "      <td>170</td>\n",
       "      <td>77.110703</td>\n",
       "    </tr>\n",
       "    <tr>\n",
       "      <th>117409</th>\n",
       "      <td>120428</td>\n",
       "      <td>2013-04-05</td>\n",
       "      <td>64.0</td>\n",
       "      <td>right</td>\n",
       "      <td>97.0</td>\n",
       "      <td>Mathis Bolly</td>\n",
       "      <td>1990-11-14 00:00:00</td>\n",
       "      <td>185.42</td>\n",
       "      <td>170</td>\n",
       "      <td>77.110703</td>\n",
       "    </tr>\n",
       "    <tr>\n",
       "      <th>117410</th>\n",
       "      <td>120428</td>\n",
       "      <td>2013-03-22</td>\n",
       "      <td>64.0</td>\n",
       "      <td>right</td>\n",
       "      <td>97.0</td>\n",
       "      <td>Mathis Bolly</td>\n",
       "      <td>1990-11-14 00:00:00</td>\n",
       "      <td>185.42</td>\n",
       "      <td>170</td>\n",
       "      <td>77.110703</td>\n",
       "    </tr>\n",
       "    <tr>\n",
       "      <th>117411</th>\n",
       "      <td>120428</td>\n",
       "      <td>2013-03-15</td>\n",
       "      <td>63.0</td>\n",
       "      <td>right</td>\n",
       "      <td>97.0</td>\n",
       "      <td>Mathis Bolly</td>\n",
       "      <td>1990-11-14 00:00:00</td>\n",
       "      <td>185.42</td>\n",
       "      <td>170</td>\n",
       "      <td>77.110703</td>\n",
       "    </tr>\n",
       "    <tr>\n",
       "      <th>117412</th>\n",
       "      <td>120428</td>\n",
       "      <td>2013-02-22</td>\n",
       "      <td>63.0</td>\n",
       "      <td>right</td>\n",
       "      <td>97.0</td>\n",
       "      <td>Mathis Bolly</td>\n",
       "      <td>1990-11-14 00:00:00</td>\n",
       "      <td>185.42</td>\n",
       "      <td>170</td>\n",
       "      <td>77.110703</td>\n",
       "    </tr>\n",
       "  </tbody>\n",
       "</table>\n",
       "</div>"
      ],
      "text/plain": [
       "        player_api_id        date  overall_rating preferred_foot  \\\n",
       "39841           38243  2008-08-30            70.0          right   \n",
       "117390         120428  2015-01-09            64.0          right   \n",
       "117391         120428  2014-11-21            64.0          right   \n",
       "117392         120428  2014-09-18            64.0          right   \n",
       "117393         120428  2014-05-16            64.0          right   \n",
       "117394         120428  2014-05-09            64.0          right   \n",
       "117395         120428  2014-03-07            65.0          right   \n",
       "117396         120428  2014-02-28            65.0          right   \n",
       "117397         120428  2014-02-07            65.0          right   \n",
       "117398         120428  2014-01-31            65.0          right   \n",
       "117399         120428  2014-01-17            65.0          right   \n",
       "117400         120428  2013-11-29            65.0          right   \n",
       "117401         120428  2013-10-18            65.0          right   \n",
       "117402         120428  2013-10-04            65.0          right   \n",
       "117403         120428  2013-09-27            65.0          right   \n",
       "117404         120428  2013-09-20            66.0          right   \n",
       "117405         120428  2013-05-31            64.0          right   \n",
       "117406         120428  2013-04-26            64.0          right   \n",
       "117407         120428  2013-04-19            64.0          right   \n",
       "117408         120428  2013-04-12            64.0          right   \n",
       "117409         120428  2013-04-05            64.0          right   \n",
       "117410         120428  2013-03-22            64.0          right   \n",
       "117411         120428  2013-03-15            63.0          right   \n",
       "117412         120428  2013-02-22            63.0          right   \n",
       "\n",
       "        sprint_speed    player_name             birthday  height  weight  \\\n",
       "39841           97.0  David Odonkor  1984-02-21 00:00:00  172.72     163   \n",
       "117390          97.0   Mathis Bolly  1990-11-14 00:00:00  185.42     170   \n",
       "117391          97.0   Mathis Bolly  1990-11-14 00:00:00  185.42     170   \n",
       "117392          97.0   Mathis Bolly  1990-11-14 00:00:00  185.42     170   \n",
       "117393          97.0   Mathis Bolly  1990-11-14 00:00:00  185.42     170   \n",
       "117394          97.0   Mathis Bolly  1990-11-14 00:00:00  185.42     170   \n",
       "117395          97.0   Mathis Bolly  1990-11-14 00:00:00  185.42     170   \n",
       "117396          97.0   Mathis Bolly  1990-11-14 00:00:00  185.42     170   \n",
       "117397          97.0   Mathis Bolly  1990-11-14 00:00:00  185.42     170   \n",
       "117398          97.0   Mathis Bolly  1990-11-14 00:00:00  185.42     170   \n",
       "117399          97.0   Mathis Bolly  1990-11-14 00:00:00  185.42     170   \n",
       "117400          97.0   Mathis Bolly  1990-11-14 00:00:00  185.42     170   \n",
       "117401          97.0   Mathis Bolly  1990-11-14 00:00:00  185.42     170   \n",
       "117402          97.0   Mathis Bolly  1990-11-14 00:00:00  185.42     170   \n",
       "117403          97.0   Mathis Bolly  1990-11-14 00:00:00  185.42     170   \n",
       "117404          97.0   Mathis Bolly  1990-11-14 00:00:00  185.42     170   \n",
       "117405          97.0   Mathis Bolly  1990-11-14 00:00:00  185.42     170   \n",
       "117406          97.0   Mathis Bolly  1990-11-14 00:00:00  185.42     170   \n",
       "117407          97.0   Mathis Bolly  1990-11-14 00:00:00  185.42     170   \n",
       "117408          97.0   Mathis Bolly  1990-11-14 00:00:00  185.42     170   \n",
       "117409          97.0   Mathis Bolly  1990-11-14 00:00:00  185.42     170   \n",
       "117410          97.0   Mathis Bolly  1990-11-14 00:00:00  185.42     170   \n",
       "117411          97.0   Mathis Bolly  1990-11-14 00:00:00  185.42     170   \n",
       "117412          97.0   Mathis Bolly  1990-11-14 00:00:00  185.42     170   \n",
       "\n",
       "        weight_kg  \n",
       "39841   73.935556  \n",
       "117390  77.110703  \n",
       "117391  77.110703  \n",
       "117392  77.110703  \n",
       "117393  77.110703  \n",
       "117394  77.110703  \n",
       "117395  77.110703  \n",
       "117396  77.110703  \n",
       "117397  77.110703  \n",
       "117398  77.110703  \n",
       "117399  77.110703  \n",
       "117400  77.110703  \n",
       "117401  77.110703  \n",
       "117402  77.110703  \n",
       "117403  77.110703  \n",
       "117404  77.110703  \n",
       "117405  77.110703  \n",
       "117406  77.110703  \n",
       "117407  77.110703  \n",
       "117408  77.110703  \n",
       "117409  77.110703  \n",
       "117410  77.110703  \n",
       "117411  77.110703  \n",
       "117412  77.110703  "
      ]
     },
     "execution_count": 143,
     "metadata": {},
     "output_type": "execute_result"
    }
   ],
   "source": [
    "# search all players with speed 97\n",
    "fastest_player = df_p.query('sprint_speed == 97')\n",
    "fastest_player"
   ]
  },
  {
   "cell_type": "code",
   "execution_count": 144,
   "metadata": {},
   "outputs": [
    {
     "data": {
      "text/plain": [
       "Text(0,0.5,'Sprint Speed')"
      ]
     },
     "execution_count": 144,
     "metadata": {},
     "output_type": "execute_result"
    },
    {
     "data": {
      "image/png": "[encoded data removed]",
      "text/plain": [
       "<matplotlib.figure.Figure at 0x7f70bc8e9c88>"
      ]
     },
     "metadata": {
      "needs_background": "light"
     },
     "output_type": "display_data"
    }
   ],
   "source": [
    "# create bar plot grouped by the player_name considering the max speed achieved in their carrer\n",
    "df_f_p = fastest_player.groupby('player_name')['sprint_speed'].max().plot(kind='bar')\n",
    "df_f_p.set_ylim(90,100) # set the y axis to 90-100 for better difference overview\n",
    "plt.title('Fastest Players')\n",
    "plt.xlabel('Player Name')\n",
    "plt.ylabel('Sprint Speed')"
   ]
  },
  {
   "cell_type": "markdown",
   "metadata": {},
   "source": [
    "There are 2 players with a speed of 97.<p>\n",
    "\n",
    "The players are:<p>\n",
    "\n",
    "David Odonkor<br>\n",
    "Mathis Bolly"
   ]
  },
  {
   "cell_type": "markdown",
   "metadata": {},
   "source": [
    "### Research Question 3: Do right or left feet players have the higher overall rating in the last existing data record?"
   ]
  },
  {
   "cell_type": "code",
   "execution_count": 145,
   "metadata": {},
   "outputs": [],
   "source": [
    "# For further investigation of the dataset only keep the last rating date for the players\n",
    "# sort the values for the player_api_id and date\n",
    "df_p = df_p.sort_values(by=['player_api_id', 'date'])\n",
    "# drop the unecessary values and only keep the last rating date\n",
    "df_p.drop_duplicates(subset=['player_api_id'], keep='last', inplace=True)"
   ]
  },
  {
   "cell_type": "code",
   "execution_count": 146,
   "metadata": {},
   "outputs": [
    {
     "data": {
      "text/plain": [
       "68.0"
      ]
     },
     "execution_count": 146,
     "metadata": {},
     "output_type": "execute_result"
    }
   ],
   "source": [
    "# get the median amount of overall_rating\n",
    "df_p['overall_rating'].median()"
   ]
  },
  {
   "cell_type": "code",
   "execution_count": 147,
   "metadata": {},
   "outputs": [
    {
     "data": {
      "text/plain": [
       "True"
      ]
     },
     "execution_count": 147,
     "metadata": {},
     "output_type": "execute_result"
    }
   ],
   "source": [
    "# select players with overall_rating less than the median\n",
    "low_rating = df_p.query('overall_rating < 68')\n",
    "\n",
    "# select players with overall_rating greater than or equal to the median\n",
    "high_rating = df_p.query('overall_rating >= 68')\n",
    "\n",
    "# ensure these queries included each sample exactly once\n",
    "nump_samples = df_p.shape[0]\n",
    "nump_samples == low_rating['overall_rating'].count() + high_rating['overall_rating'].count() # should be True"
   ]
  },
  {
   "cell_type": "code",
   "execution_count": 148,
   "metadata": {},
   "outputs": [
    {
     "data": {
      "text/plain": [
       "((5414, 10), (5646, 10))"
      ]
     },
     "execution_count": 148,
     "metadata": {},
     "output_type": "execute_result"
    }
   ],
   "source": [
    "low_rating.shape, high_rating.shape"
   ]
  },
  {
   "cell_type": "code",
   "execution_count": 149,
   "metadata": {},
   "outputs": [
    {
     "data": {
      "text/plain": [
       "Text(0,0.5,'Number of players')"
      ]
     },
     "execution_count": 149,
     "metadata": {},
     "output_type": "execute_result"
    },
    {
     "data": {
      "image/png": "[encoded data removed]",
      "text/plain": [
       "<matplotlib.figure.Figure at 0x7f70bc8f6fd0>"
      ]
     },
     "metadata": {
      "needs_background": "light"
     },
     "output_type": "display_data"
    }
   ],
   "source": [
    "# for lower rating group using groupy and count the players prefer right or left foot\n",
    "df_foot = low_rating.groupby('preferred_foot')['player_name'].count().plot(kind='bar')\n",
    "plt.title('Number of low rated right and left feet players')\n",
    "plt.xlabel('Foot')\n",
    "plt.ylabel('Number of players')"
   ]
  },
  {
   "cell_type": "markdown",
   "metadata": {},
   "source": [
    "The bar chart shows that there are a lot more low rated players prefer their right foot."
   ]
  },
  {
   "cell_type": "code",
   "execution_count": 150,
   "metadata": {},
   "outputs": [
    {
     "data": {
      "text/plain": [
       "Text(0,0.5,'Numbers of players')"
      ]
     },
     "execution_count": 150,
     "metadata": {},
     "output_type": "execute_result"
    },
    {
     "data": {
      "image/png": "[encoded data removed]",
      "text/plain": [
       "<matplotlib.figure.Figure at 0x7f70bc727ac8>"
      ]
     },
     "metadata": {
      "needs_background": "light"
     },
     "output_type": "display_data"
    }
   ],
   "source": [
    "# for higher rating group using groupy and count the players prefer right or left foot\n",
    "df_foot = high_rating.groupby('preferred_foot')['player_name'].count().plot(kind='bar')\n",
    "plt.title('Number of high rated right and left feet players')\n",
    "plt.xlabel('Foot')\n",
    "plt.ylabel('Numbers of players')"
   ]
  },
  {
   "cell_type": "markdown",
   "metadata": {},
   "source": [
    "The bar chart shows that there are a lot more high rated players prefer their right foot."
   ]
  },
  {
   "cell_type": "code",
   "execution_count": 151,
   "metadata": {},
   "outputs": [],
   "source": [
    "# count all players who prefer right or left foot\n",
    "count_left_feet = df_p.query('preferred_foot == \"left\"')\n",
    "count_right_feet = df_p.query('preferred_foot == \"right\"')"
   ]
  },
  {
   "cell_type": "code",
   "execution_count": 152,
   "metadata": {},
   "outputs": [
    {
     "data": {
      "text/plain": [
       "(4107, 8373)"
      ]
     },
     "execution_count": 152,
     "metadata": {},
     "output_type": "execute_result"
    }
   ],
   "source": [
    "# count the low rating players who prefer their right foot\n",
    "right_feet_low = low_rating.query('preferred_foot == \"right\"')\n",
    "# number of players in low rating prefer right foot, number of all players prefer right foot\n",
    "right_feet_low.player_name.count(), count_right_feet.player_name.count()"
   ]
  },
  {
   "cell_type": "code",
   "execution_count": 153,
   "metadata": {},
   "outputs": [
    {
     "data": {
      "text/plain": [
       "(1307, 2687)"
      ]
     },
     "execution_count": 153,
     "metadata": {},
     "output_type": "execute_result"
    }
   ],
   "source": [
    "# count the low rating players who prefer their left foot\n",
    "left_feet_low = low_rating.query('preferred_foot == \"left\"')\n",
    "# number of players in low rating prefer left foot, number of all players prefer left foot\n",
    "left_feet_low.player_name.count(), count_left_feet.player_name.count()"
   ]
  },
  {
   "cell_type": "code",
   "execution_count": 154,
   "metadata": {},
   "outputs": [
    {
     "data": {
      "text/plain": [
       "(4266, 8373)"
      ]
     },
     "execution_count": 154,
     "metadata": {},
     "output_type": "execute_result"
    }
   ],
   "source": [
    "# count the high rating players who prefer their right foot\n",
    "right_feet_high = high_rating.query('preferred_foot == \"right\"')\n",
    "# number of players in high rating prefer right foot, number of all players prefer right foot\n",
    "right_feet_high.player_name.count(), count_right_feet.player_name.count()"
   ]
  },
  {
   "cell_type": "code",
   "execution_count": 155,
   "metadata": {},
   "outputs": [
    {
     "data": {
      "text/plain": [
       "(1380, 2687)"
      ]
     },
     "execution_count": 155,
     "metadata": {},
     "output_type": "execute_result"
    }
   ],
   "source": [
    "# count the high rating players who prefer their left foot\n",
    "left_feet_high = high_rating.query('preferred_foot == \"left\"')\n",
    "# number of players in high rating prefer left foot, number of all players prefer left foot\n",
    "left_feet_high.player_name.count(), count_left_feet.player_name.count()"
   ]
  },
  {
   "cell_type": "code",
   "execution_count": 156,
   "metadata": {},
   "outputs": [
    {
     "data": {
      "text/plain": [
       "49.050519527051236"
      ]
     },
     "execution_count": 156,
     "metadata": {},
     "output_type": "execute_result"
    }
   ],
   "source": [
    "# calculate the percentage of how many low rating players existing who prefer their right foot\n",
    "right_feet_percent_below = ((right_feet_low.player_name.count() / count_right_feet.player_name.count())*100)\n",
    "right_feet_percent_below"
   ]
  },
  {
   "cell_type": "code",
   "execution_count": 157,
   "metadata": {},
   "outputs": [
    {
     "data": {
      "text/plain": [
       "50.949480472948764"
      ]
     },
     "execution_count": 157,
     "metadata": {},
     "output_type": "execute_result"
    }
   ],
   "source": [
    "# calculate the percentage of how many high rating players existing who prefer their right foot\n",
    "right_feet_percent_above = ((right_feet_high.player_name.count() / count_right_feet.player_name.count())*100)\n",
    "right_feet_percent_above"
   ]
  },
  {
   "cell_type": "code",
   "execution_count": 158,
   "metadata": {},
   "outputs": [
    {
     "data": {
      "text/plain": [
       "48.641607740975061"
      ]
     },
     "execution_count": 158,
     "metadata": {},
     "output_type": "execute_result"
    }
   ],
   "source": [
    "# calculate the percentage of how many low rating players existing who prefer their left foot\n",
    "left_feet_percent_below = ((left_feet_low.player_name.count() / count_left_feet.player_name.count())*100)\n",
    "left_feet_percent_below"
   ]
  },
  {
   "cell_type": "code",
   "execution_count": 159,
   "metadata": {},
   "outputs": [
    {
     "data": {
      "text/plain": [
       "51.358392259024932"
      ]
     },
     "execution_count": 159,
     "metadata": {},
     "output_type": "execute_result"
    }
   ],
   "source": [
    "# calculate the percentage of how many high rating players existing who prefer their left foot\n",
    "left_feet_percent_above = ((left_feet_high.player_name.count() / count_left_feet.player_name.count())*100)\n",
    "left_feet_percent_above"
   ]
  },
  {
   "cell_type": "code",
   "execution_count": 160,
   "metadata": {},
   "outputs": [
    {
     "data": {
      "text/plain": [
       "0.40891178607617462"
      ]
     },
     "execution_count": 160,
     "metadata": {},
     "output_type": "execute_result"
    }
   ],
   "source": [
    "# calculate the difference in percent\n",
    "percent = right_feet_percent_below - left_feet_percent_below\n",
    "percent"
   ]
  },
  {
   "cell_type": "markdown",
   "metadata": {},
   "source": [
    "Result<p>\n",
    "    \n",
    "Number of all players prefer left foot: 2687<br>\n",
    "Number of all players prefer right foot: 8373<p>\n",
    "    \n",
    "Number of low rated players prefer left foot: 1307<br>\n",
    "Number of high rated players prefer left foot: 1380<p>\n",
    "    \n",
    "Number of low rated players prefer right foot: 4107<br>\n",
    "Number of high rated players prefer right foot: 4266<p>\n",
    "    \n",
    "In total:<p>\n",
    "\n",
    "48.64% of low rated players prefer their left foot and<br>\n",
    "49.05% of low rated players prefer their right foot<p>\n",
    "    \n",
    "51.36% of high rated players prefer their left foot and<br>\n",
    "50.94% of high rated players prefer their right foot<p>\n",
    "\n",
    "The result shows that more than 0.41% of high rated players prefer their left foot.<br>\n",
    "There are no notable differences to be found between the rating of left or right feet players."
   ]
  },
  {
   "cell_type": "markdown",
   "metadata": {},
   "source": [
    "### Research Question 4: Who is the highest and smallest player?"
   ]
  },
  {
   "cell_type": "code",
   "execution_count": 161,
   "metadata": {},
   "outputs": [
    {
     "data": {
      "text/plain": [
       "count    11060.000000\n",
       "mean       181.867445\n",
       "std          6.369201\n",
       "min        157.480000\n",
       "25%        177.800000\n",
       "50%        182.880000\n",
       "75%        185.420000\n",
       "max        208.280000\n",
       "Name: height, dtype: float64"
      ]
     },
     "execution_count": 161,
     "metadata": {},
     "output_type": "execute_result"
    }
   ],
   "source": [
    "# research the data for height\n",
    "df_p.height.describe()"
   ]
  },
  {
   "cell_type": "code",
   "execution_count": 162,
   "metadata": {},
   "outputs": [
    {
     "data": {
      "image/png": "[encoded data removed]",
      "text/plain": [
       "<matplotlib.figure.Figure at 0x7f70bc6cc710>"
      ]
     },
     "metadata": {
      "needs_background": "light"
     },
     "output_type": "display_data"
    }
   ],
   "source": [
    "# visualize the distribution of height\n",
    "df_p[['height']].hist(figsize = (20, 5), layout = (1, 3));"
   ]
  },
  {
   "cell_type": "markdown",
   "metadata": {},
   "source": [
    "The height distribution show normal distribution form<br>\n",
    "The mean height is 181.86 cm<br>\n",
    "The maximal height is 208.28 cm<br>\n",
    "The minimum height is 157.48 cm"
   ]
  },
  {
   "cell_type": "code",
   "execution_count": 163,
   "metadata": {},
   "outputs": [
    {
     "data": {
      "text/html": [
       "<div>\n",
       "<style>\n",
       "    .dataframe thead tr:only-child th {\n",
       "        text-align: right;\n",
       "    }\n",
       "\n",
       "    .dataframe thead th {\n",
       "        text-align: left;\n",
       "    }\n",
       "\n",
       "    .dataframe tbody tr th {\n",
       "        vertical-align: top;\n",
       "    }\n",
       "</style>\n",
       "<table border=\"1\" class=\"dataframe\">\n",
       "  <thead>\n",
       "    <tr style=\"text-align: right;\">\n",
       "      <th></th>\n",
       "      <th>player_api_id</th>\n",
       "      <th>date</th>\n",
       "      <th>overall_rating</th>\n",
       "      <th>preferred_foot</th>\n",
       "      <th>sprint_speed</th>\n",
       "      <th>player_name</th>\n",
       "      <th>birthday</th>\n",
       "      <th>height</th>\n",
       "      <th>weight</th>\n",
       "      <th>weight_kg</th>\n",
       "    </tr>\n",
       "  </thead>\n",
       "  <tbody>\n",
       "    <tr>\n",
       "      <th>97247</th>\n",
       "      <td>148325</td>\n",
       "      <td>2015-10-30</td>\n",
       "      <td>67.0</td>\n",
       "      <td>right</td>\n",
       "      <td>23.0</td>\n",
       "      <td>Kristof van Hout</td>\n",
       "      <td>1987-02-09 00:00:00</td>\n",
       "      <td>208.28</td>\n",
       "      <td>243</td>\n",
       "      <td>110.222946</td>\n",
       "    </tr>\n",
       "  </tbody>\n",
       "</table>\n",
       "</div>"
      ],
      "text/plain": [
       "       player_api_id        date  overall_rating preferred_foot  sprint_speed  \\\n",
       "97247         148325  2015-10-30            67.0          right          23.0   \n",
       "\n",
       "            player_name             birthday  height  weight   weight_kg  \n",
       "97247  Kristof van Hout  1987-02-09 00:00:00  208.28     243  110.222946  "
      ]
     },
     "execution_count": 163,
     "metadata": {},
     "output_type": "execute_result"
    }
   ],
   "source": [
    "# find player with max height\n",
    "df_p.query('height == 208.28')"
   ]
  },
  {
   "cell_type": "markdown",
   "metadata": {},
   "source": [
    "The heighest player is Kristof van Hout with 208.28 cm"
   ]
  },
  {
   "cell_type": "code",
   "execution_count": 164,
   "metadata": {},
   "outputs": [
    {
     "data": {
      "text/html": [
       "<div>\n",
       "<style>\n",
       "    .dataframe thead tr:only-child th {\n",
       "        text-align: right;\n",
       "    }\n",
       "\n",
       "    .dataframe thead th {\n",
       "        text-align: left;\n",
       "    }\n",
       "\n",
       "    .dataframe tbody tr th {\n",
       "        vertical-align: top;\n",
       "    }\n",
       "</style>\n",
       "<table border=\"1\" class=\"dataframe\">\n",
       "  <thead>\n",
       "    <tr style=\"text-align: right;\">\n",
       "      <th></th>\n",
       "      <th>player_api_id</th>\n",
       "      <th>date</th>\n",
       "      <th>overall_rating</th>\n",
       "      <th>preferred_foot</th>\n",
       "      <th>sprint_speed</th>\n",
       "      <th>player_name</th>\n",
       "      <th>birthday</th>\n",
       "      <th>height</th>\n",
       "      <th>weight</th>\n",
       "      <th>weight_kg</th>\n",
       "    </tr>\n",
       "  </thead>\n",
       "  <tbody>\n",
       "    <tr>\n",
       "      <th>89924</th>\n",
       "      <td>97226</td>\n",
       "      <td>2012-02-22</td>\n",
       "      <td>64.0</td>\n",
       "      <td>right</td>\n",
       "      <td>90.0</td>\n",
       "      <td>Juan Quero</td>\n",
       "      <td>1984-10-17 00:00:00</td>\n",
       "      <td>157.48</td>\n",
       "      <td>117</td>\n",
       "      <td>53.070307</td>\n",
       "    </tr>\n",
       "  </tbody>\n",
       "</table>\n",
       "</div>"
      ],
      "text/plain": [
       "       player_api_id        date  overall_rating preferred_foot  sprint_speed  \\\n",
       "89924          97226  2012-02-22            64.0          right          90.0   \n",
       "\n",
       "      player_name             birthday  height  weight  weight_kg  \n",
       "89924  Juan Quero  1984-10-17 00:00:00  157.48     117  53.070307  "
      ]
     },
     "execution_count": 164,
     "metadata": {},
     "output_type": "execute_result"
    }
   ],
   "source": [
    "# find player with min height\n",
    "df_p.query('height == 157.480000') "
   ]
  },
  {
   "cell_type": "markdown",
   "metadata": {},
   "source": [
    "The smallest player is Juan Quero with 157.48 cm"
   ]
  },
  {
   "cell_type": "markdown",
   "metadata": {},
   "source": [
    "### Research Question 5: Who is the heaviest and lightest player?"
   ]
  },
  {
   "cell_type": "code",
   "execution_count": 165,
   "metadata": {},
   "outputs": [
    {
     "data": {
      "text/plain": [
       "count    11060.000000\n",
       "mean        76.376014\n",
       "std          6.799448\n",
       "min         53.070307\n",
       "25%         72.121187\n",
       "50%         76.203518\n",
       "75%         81.193034\n",
       "max        110.222946\n",
       "Name: weight_kg, dtype: float64"
      ]
     },
     "execution_count": 165,
     "metadata": {},
     "output_type": "execute_result"
    }
   ],
   "source": [
    "# research the data for weight_kg\n",
    "df_p.weight_kg.describe()"
   ]
  },
  {
   "cell_type": "code",
   "execution_count": 166,
   "metadata": {},
   "outputs": [
    {
     "data": {
      "image/png": "[encoded data removed]",
      "text/plain": [
       "<matplotlib.figure.Figure at 0x7f70bc55fbe0>"
      ]
     },
     "metadata": {
      "needs_background": "light"
     },
     "output_type": "display_data"
    }
   ],
   "source": [
    "# visualize the distribution of weight_kg\n",
    "df_p[['weight_kg']].hist(figsize = (20, 5), layout = (1, 3));"
   ]
  },
  {
   "cell_type": "markdown",
   "metadata": {},
   "source": [
    "The weight distribution show normal distribution form<br>\n",
    "The mean weight is 76.38 kg<br>\n",
    "The maximal weight is 110.22 kg<br>\n",
    "The minimum weight is 53.07 kg<br>"
   ]
  },
  {
   "cell_type": "code",
   "execution_count": 167,
   "metadata": {},
   "outputs": [
    {
     "data": {
      "text/html": [
       "<div>\n",
       "<style>\n",
       "    .dataframe thead tr:only-child th {\n",
       "        text-align: right;\n",
       "    }\n",
       "\n",
       "    .dataframe thead th {\n",
       "        text-align: left;\n",
       "    }\n",
       "\n",
       "    .dataframe tbody tr th {\n",
       "        vertical-align: top;\n",
       "    }\n",
       "</style>\n",
       "<table border=\"1\" class=\"dataframe\">\n",
       "  <thead>\n",
       "    <tr style=\"text-align: right;\">\n",
       "      <th></th>\n",
       "      <th>player_api_id</th>\n",
       "      <th>date</th>\n",
       "      <th>overall_rating</th>\n",
       "      <th>preferred_foot</th>\n",
       "      <th>sprint_speed</th>\n",
       "      <th>player_name</th>\n",
       "      <th>birthday</th>\n",
       "      <th>height</th>\n",
       "      <th>weight</th>\n",
       "      <th>weight_kg</th>\n",
       "    </tr>\n",
       "  </thead>\n",
       "  <tbody>\n",
       "    <tr>\n",
       "      <th>170448</th>\n",
       "      <td>27313</td>\n",
       "      <td>2015-09-25</td>\n",
       "      <td>68.0</td>\n",
       "      <td>right</td>\n",
       "      <td>20.0</td>\n",
       "      <td>Tim Wiese</td>\n",
       "      <td>1981-12-17 00:00:00</td>\n",
       "      <td>193.04</td>\n",
       "      <td>243</td>\n",
       "      <td>110.222946</td>\n",
       "    </tr>\n",
       "    <tr>\n",
       "      <th>97247</th>\n",
       "      <td>148325</td>\n",
       "      <td>2015-10-30</td>\n",
       "      <td>67.0</td>\n",
       "      <td>right</td>\n",
       "      <td>23.0</td>\n",
       "      <td>Kristof van Hout</td>\n",
       "      <td>1987-02-09 00:00:00</td>\n",
       "      <td>208.28</td>\n",
       "      <td>243</td>\n",
       "      <td>110.222946</td>\n",
       "    </tr>\n",
       "  </tbody>\n",
       "</table>\n",
       "</div>"
      ],
      "text/plain": [
       "        player_api_id        date  overall_rating preferred_foot  \\\n",
       "170448          27313  2015-09-25            68.0          right   \n",
       "97247          148325  2015-10-30            67.0          right   \n",
       "\n",
       "        sprint_speed       player_name             birthday  height  weight  \\\n",
       "170448          20.0         Tim Wiese  1981-12-17 00:00:00  193.04     243   \n",
       "97247           23.0  Kristof van Hout  1987-02-09 00:00:00  208.28     243   \n",
       "\n",
       "         weight_kg  \n",
       "170448  110.222946  \n",
       "97247   110.222946  "
      ]
     },
     "execution_count": 167,
     "metadata": {},
     "output_type": "execute_result"
    }
   ],
   "source": [
    "# find player with max weight_kg\n",
    "df_p.query('weight == 243')"
   ]
  },
  {
   "cell_type": "markdown",
   "metadata": {},
   "source": [
    "The heaviest players are Tim Wiese and Kristof van Hout with 110.22 kg"
   ]
  },
  {
   "cell_type": "code",
   "execution_count": 168,
   "metadata": {},
   "outputs": [
    {
     "data": {
      "text/html": [
       "<div>\n",
       "<style>\n",
       "    .dataframe thead tr:only-child th {\n",
       "        text-align: right;\n",
       "    }\n",
       "\n",
       "    .dataframe thead th {\n",
       "        text-align: left;\n",
       "    }\n",
       "\n",
       "    .dataframe tbody tr th {\n",
       "        vertical-align: top;\n",
       "    }\n",
       "</style>\n",
       "<table border=\"1\" class=\"dataframe\">\n",
       "  <thead>\n",
       "    <tr style=\"text-align: right;\">\n",
       "      <th></th>\n",
       "      <th>player_api_id</th>\n",
       "      <th>date</th>\n",
       "      <th>overall_rating</th>\n",
       "      <th>preferred_foot</th>\n",
       "      <th>sprint_speed</th>\n",
       "      <th>player_name</th>\n",
       "      <th>birthday</th>\n",
       "      <th>height</th>\n",
       "      <th>weight</th>\n",
       "      <th>weight_kg</th>\n",
       "    </tr>\n",
       "  </thead>\n",
       "  <tbody>\n",
       "    <tr>\n",
       "      <th>89924</th>\n",
       "      <td>97226</td>\n",
       "      <td>2012-02-22</td>\n",
       "      <td>64.0</td>\n",
       "      <td>right</td>\n",
       "      <td>90.0</td>\n",
       "      <td>Juan Quero</td>\n",
       "      <td>1984-10-17 00:00:00</td>\n",
       "      <td>157.48</td>\n",
       "      <td>117</td>\n",
       "      <td>53.070307</td>\n",
       "    </tr>\n",
       "  </tbody>\n",
       "</table>\n",
       "</div>"
      ],
      "text/plain": [
       "       player_api_id        date  overall_rating preferred_foot  sprint_speed  \\\n",
       "89924          97226  2012-02-22            64.0          right          90.0   \n",
       "\n",
       "      player_name             birthday  height  weight  weight_kg  \n",
       "89924  Juan Quero  1984-10-17 00:00:00  157.48     117  53.070307  "
      ]
     },
     "execution_count": 168,
     "metadata": {},
     "output_type": "execute_result"
    }
   ],
   "source": [
    "# find player with min weight_kg\n",
    "df_p.query('weight == 117')"
   ]
  },
  {
   "cell_type": "markdown",
   "metadata": {},
   "source": [
    "The lighest player is Juan Quero with 53.07 kg"
   ]
  },
  {
   "cell_type": "code",
   "execution_count": 169,
   "metadata": {},
   "outputs": [
    {
     "data": {
      "text/plain": [
       "Text(0,0.5,'Speed')"
      ]
     },
     "execution_count": 169,
     "metadata": {},
     "output_type": "execute_result"
    },
    {
     "data": {
      "image/png": "[encoded data removed]",
      "text/plain": [
       "<matplotlib.figure.Figure at 0x7f70bc471898>"
      ]
     },
     "metadata": {
      "needs_background": "light"
     },
     "output_type": "display_data"
    }
   ],
   "source": [
    "# visualize whether there is a correlation between speed and weight\n",
    "df_p.plot(x='weight_kg', y='sprint_speed', kind='scatter')\n",
    "plt.title('Correlation between speed and weight')\n",
    "plt.xlabel('Weight')\n",
    "plt.ylabel('Speed')"
   ]
  },
  {
   "cell_type": "markdown",
   "metadata": {},
   "source": [
    "The scatterplot shows that lighter players are faster than heavy players"
   ]
  },
  {
   "cell_type": "markdown",
   "metadata": {},
   "source": [
    "### Research Question 6: Who is the player with the longest name?"
   ]
  },
  {
   "cell_type": "code",
   "execution_count": 170,
   "metadata": {},
   "outputs": [
    {
     "data": {
      "text/plain": [
       "40"
      ]
     },
     "execution_count": 170,
     "metadata": {},
     "output_type": "execute_result"
    }
   ],
   "source": [
    "# count numbers of characters in name, also counts the spaces\n",
    "df_p.player_name.str.len().max()"
   ]
  },
  {
   "cell_type": "code",
   "execution_count": 171,
   "metadata": {},
   "outputs": [],
   "source": [
    "# create new column with characters in name\n",
    "player_name_chars = df_p['player_name'].str.len()\n",
    "df_p['player_name_chars'] = player_name_chars"
   ]
  },
  {
   "cell_type": "code",
   "execution_count": 172,
   "metadata": {},
   "outputs": [
    {
     "data": {
      "text/html": [
       "<div>\n",
       "<style>\n",
       "    .dataframe thead tr:only-child th {\n",
       "        text-align: right;\n",
       "    }\n",
       "\n",
       "    .dataframe thead th {\n",
       "        text-align: left;\n",
       "    }\n",
       "\n",
       "    .dataframe tbody tr th {\n",
       "        vertical-align: top;\n",
       "    }\n",
       "</style>\n",
       "<table border=\"1\" class=\"dataframe\">\n",
       "  <thead>\n",
       "    <tr style=\"text-align: right;\">\n",
       "      <th></th>\n",
       "      <th>player_api_id</th>\n",
       "      <th>date</th>\n",
       "      <th>overall_rating</th>\n",
       "      <th>preferred_foot</th>\n",
       "      <th>sprint_speed</th>\n",
       "      <th>player_name</th>\n",
       "      <th>birthday</th>\n",
       "      <th>height</th>\n",
       "      <th>weight</th>\n",
       "      <th>weight_kg</th>\n",
       "      <th>player_name_chars</th>\n",
       "    </tr>\n",
       "  </thead>\n",
       "  <tbody>\n",
       "    <tr>\n",
       "      <th>45334</th>\n",
       "      <td>38607</td>\n",
       "      <td>2013-05-24</td>\n",
       "      <td>68.0</td>\n",
       "      <td>right</td>\n",
       "      <td>59.0</td>\n",
       "      <td>Domingos Alexandre Martins da Costa Alex</td>\n",
       "      <td>1979-09-06 00:00:00</td>\n",
       "      <td>175.26</td>\n",
       "      <td>163</td>\n",
       "      <td>73.935556</td>\n",
       "      <td>40</td>\n",
       "    </tr>\n",
       "  </tbody>\n",
       "</table>\n",
       "</div>"
      ],
      "text/plain": [
       "       player_api_id        date  overall_rating preferred_foot  sprint_speed  \\\n",
       "45334          38607  2013-05-24            68.0          right          59.0   \n",
       "\n",
       "                                    player_name             birthday  height  \\\n",
       "45334  Domingos Alexandre Martins da Costa Alex  1979-09-06 00:00:00  175.26   \n",
       "\n",
       "       weight  weight_kg  player_name_chars  \n",
       "45334     163  73.935556                 40  "
      ]
     },
     "execution_count": 172,
     "metadata": {},
     "output_type": "execute_result"
    }
   ],
   "source": [
    "# find the player with the max length of characters in name\n",
    "df_p.query('player_name_chars == 40')"
   ]
  },
  {
   "cell_type": "markdown",
   "metadata": {},
   "source": [
    "The player with the longest name is Domingos Alexandre Martins da Costa Alex with 40 characters(spaces included)"
   ]
  },
  {
   "cell_type": "code",
   "execution_count": 173,
   "metadata": {},
   "outputs": [
    {
     "data": {
      "text/plain": [
       "Text(0,0.5,'Overall rating')"
      ]
     },
     "execution_count": 173,
     "metadata": {},
     "output_type": "execute_result"
    },
    {
     "data": {
      "image/png": "[encoded data removed]",
      "text/plain": [
       "<matplotlib.figure.Figure at 0x7f70bc3cb940>"
      ]
     },
     "metadata": {
      "needs_background": "light"
     },
     "output_type": "display_data"
    }
   ],
   "source": [
    "# visualize correlation between name length and overall rating\n",
    "df_p.plot(x='player_name_chars', y='overall_rating', kind='scatter')\n",
    "plt.title('Correlation between number of chars in player name and overall rating')\n",
    "plt.xlabel('Chars in player name')\n",
    "plt.ylabel('Overall rating')"
   ]
  },
  {
   "cell_type": "markdown",
   "metadata": {},
   "source": [
    "Players with shorter names have a better overall rating. This is certainly due to the fact that the greater part of humanity has shorter names."
   ]
  },
  {
   "cell_type": "code",
   "execution_count": 174,
   "metadata": {},
   "outputs": [],
   "source": [
    "# save data\n",
    "df_p.to_csv('football_player_attributes_v3.csv', index=False)\n",
    "df_t.to_csv('football_team_attributes_v3.csv', index=False)"
   ]
  },
  {
   "cell_type": "markdown",
   "metadata": {},
   "source": [
    "### Research Question 7: Which team has the best increase in speed overall?"
   ]
  },
  {
   "cell_type": "code",
   "execution_count": 175,
   "metadata": {},
   "outputs": [
    {
     "data": {
      "text/html": [
       "<div>\n",
       "<style>\n",
       "    .dataframe thead tr:only-child th {\n",
       "        text-align: right;\n",
       "    }\n",
       "\n",
       "    .dataframe thead th {\n",
       "        text-align: left;\n",
       "    }\n",
       "\n",
       "    .dataframe tbody tr th {\n",
       "        vertical-align: top;\n",
       "    }\n",
       "</style>\n",
       "<table border=\"1\" class=\"dataframe\">\n",
       "  <thead>\n",
       "    <tr style=\"text-align: right;\">\n",
       "      <th></th>\n",
       "      <th>team_api_id</th>\n",
       "      <th>team_long_name</th>\n",
       "      <th>team_short_name</th>\n",
       "      <th>date</th>\n",
       "      <th>speed</th>\n",
       "    </tr>\n",
       "  </thead>\n",
       "  <tbody>\n",
       "    <tr>\n",
       "      <th>0</th>\n",
       "      <td>9930</td>\n",
       "      <td>FC Aarau</td>\n",
       "      <td>AAR</td>\n",
       "      <td>2010-02-22</td>\n",
       "      <td>60</td>\n",
       "    </tr>\n",
       "    <tr>\n",
       "      <th>1</th>\n",
       "      <td>9930</td>\n",
       "      <td>FC Aarau</td>\n",
       "      <td>AAR</td>\n",
       "      <td>2014-09-19</td>\n",
       "      <td>52</td>\n",
       "    </tr>\n",
       "    <tr>\n",
       "      <th>2</th>\n",
       "      <td>9930</td>\n",
       "      <td>FC Aarau</td>\n",
       "      <td>AAR</td>\n",
       "      <td>2015-09-10</td>\n",
       "      <td>47</td>\n",
       "    </tr>\n",
       "    <tr>\n",
       "      <th>3</th>\n",
       "      <td>8485</td>\n",
       "      <td>Aberdeen</td>\n",
       "      <td>ABE</td>\n",
       "      <td>2010-02-22</td>\n",
       "      <td>70</td>\n",
       "    </tr>\n",
       "    <tr>\n",
       "      <th>4</th>\n",
       "      <td>8485</td>\n",
       "      <td>Aberdeen</td>\n",
       "      <td>ABE</td>\n",
       "      <td>2011-02-22</td>\n",
       "      <td>47</td>\n",
       "    </tr>\n",
       "  </tbody>\n",
       "</table>\n",
       "</div>"
      ],
      "text/plain": [
       "   team_api_id team_long_name team_short_name        date  speed\n",
       "0         9930       FC Aarau             AAR  2010-02-22     60\n",
       "1         9930       FC Aarau             AAR  2014-09-19     52\n",
       "2         9930       FC Aarau             AAR  2015-09-10     47\n",
       "3         8485       Aberdeen             ABE  2010-02-22     70\n",
       "4         8485       Aberdeen             ABE  2011-02-22     47"
      ]
     },
     "execution_count": 175,
     "metadata": {},
     "output_type": "execute_result"
    }
   ],
   "source": [
    "# load data\n",
    "df_p = pd.read_csv('football_player_attributes_v3.csv')\n",
    "df_t = pd.read_csv('football_team_attributes_v3.csv')\n",
    "df_t.head()"
   ]
  },
  {
   "cell_type": "code",
   "execution_count": 176,
   "metadata": {},
   "outputs": [
    {
     "name": "stdout",
     "output_type": "stream",
     "text": [
      "<class 'pandas.core.frame.DataFrame'>\n",
      "RangeIndex: 1457 entries, 0 to 1456\n",
      "Data columns (total 5 columns):\n",
      "team_api_id        1457 non-null int64\n",
      "team_long_name     1457 non-null object\n",
      "team_short_name    1457 non-null object\n",
      "date               1457 non-null datetime64[ns]\n",
      "speed              1457 non-null int64\n",
      "dtypes: datetime64[ns](1), int64(2), object(2)\n",
      "memory usage: 57.0+ KB\n"
     ]
    }
   ],
   "source": [
    "# convert data again to datetime\n",
    "df_t['date'] = pd.to_datetime(df_t['date'])\n",
    "df_t.info()"
   ]
  },
  {
   "cell_type": "code",
   "execution_count": 177,
   "metadata": {},
   "outputs": [
    {
     "data": {
      "text/plain": [
       "('2017', '2013')"
      ]
     },
     "execution_count": 177,
     "metadata": {},
     "output_type": "execute_result"
    }
   ],
   "source": [
    "# Append date column in team attribut so that it is easier to compare the years\n",
    "# Define a function that changes the date into year only\n",
    "def to_year (date):\n",
    "    if date.year:\n",
    "        return str(date.year)\n",
    "    \n",
    "# function test\n",
    "to_year(pd.to_datetime('2017-04-06')), to_year(pd.to_datetime('2013-02-18'))"
   ]
  },
  {
   "cell_type": "code",
   "execution_count": 178,
   "metadata": {},
   "outputs": [
    {
     "data": {
      "text/html": [
       "<div>\n",
       "<style>\n",
       "    .dataframe thead tr:only-child th {\n",
       "        text-align: right;\n",
       "    }\n",
       "\n",
       "    .dataframe thead th {\n",
       "        text-align: left;\n",
       "    }\n",
       "\n",
       "    .dataframe tbody tr th {\n",
       "        vertical-align: top;\n",
       "    }\n",
       "</style>\n",
       "<table border=\"1\" class=\"dataframe\">\n",
       "  <thead>\n",
       "    <tr style=\"text-align: right;\">\n",
       "      <th></th>\n",
       "      <th>team_api_id</th>\n",
       "      <th>team_long_name</th>\n",
       "      <th>team_short_name</th>\n",
       "      <th>date</th>\n",
       "      <th>speed</th>\n",
       "      <th>year</th>\n",
       "    </tr>\n",
       "  </thead>\n",
       "  <tbody>\n",
       "    <tr>\n",
       "      <th>0</th>\n",
       "      <td>9930</td>\n",
       "      <td>FC Aarau</td>\n",
       "      <td>AAR</td>\n",
       "      <td>2010-02-22</td>\n",
       "      <td>60</td>\n",
       "      <td>2010</td>\n",
       "    </tr>\n",
       "    <tr>\n",
       "      <th>1</th>\n",
       "      <td>9930</td>\n",
       "      <td>FC Aarau</td>\n",
       "      <td>AAR</td>\n",
       "      <td>2014-09-19</td>\n",
       "      <td>52</td>\n",
       "      <td>2014</td>\n",
       "    </tr>\n",
       "    <tr>\n",
       "      <th>2</th>\n",
       "      <td>9930</td>\n",
       "      <td>FC Aarau</td>\n",
       "      <td>AAR</td>\n",
       "      <td>2015-09-10</td>\n",
       "      <td>47</td>\n",
       "      <td>2015</td>\n",
       "    </tr>\n",
       "    <tr>\n",
       "      <th>3</th>\n",
       "      <td>8485</td>\n",
       "      <td>Aberdeen</td>\n",
       "      <td>ABE</td>\n",
       "      <td>2010-02-22</td>\n",
       "      <td>70</td>\n",
       "      <td>2010</td>\n",
       "    </tr>\n",
       "    <tr>\n",
       "      <th>4</th>\n",
       "      <td>8485</td>\n",
       "      <td>Aberdeen</td>\n",
       "      <td>ABE</td>\n",
       "      <td>2011-02-22</td>\n",
       "      <td>47</td>\n",
       "      <td>2011</td>\n",
       "    </tr>\n",
       "  </tbody>\n",
       "</table>\n",
       "</div>"
      ],
      "text/plain": [
       "   team_api_id team_long_name team_short_name       date  speed  year\n",
       "0         9930       FC Aarau             AAR 2010-02-22     60  2010\n",
       "1         9930       FC Aarau             AAR 2014-09-19     52  2014\n",
       "2         9930       FC Aarau             AAR 2015-09-10     47  2015\n",
       "3         8485       Aberdeen             ABE 2010-02-22     70  2010\n",
       "4         8485       Aberdeen             ABE 2011-02-22     47  2011"
      ]
     },
     "execution_count": 178,
     "metadata": {},
     "output_type": "execute_result"
    }
   ],
   "source": [
    "# Append 'year' column in team dataset\n",
    "df_t['year'] = df_t['date'].apply(lambda x : to_year(x))\n",
    "\n",
    "df_t.head()"
   ]
  },
  {
   "cell_type": "code",
   "execution_count": 179,
   "metadata": {},
   "outputs": [
    {
     "data": {
      "text/plain": [
       "23"
      ]
     },
     "execution_count": 179,
     "metadata": {},
     "output_type": "execute_result"
    }
   ],
   "source": [
    "# define a function to measure the difference of max speed and min speed of each team\n",
    "def diff_speed (team_id):\n",
    "    year_rating = df_t.query('team_api_id == @team_id').groupby('year')['speed'].mean()\n",
    "    return year_rating.max() - year_rating.min()\n",
    "\n",
    "# function test\n",
    "diff_speed(8485)"
   ]
  },
  {
   "cell_type": "code",
   "execution_count": 180,
   "metadata": {},
   "outputs": [
    {
     "data": {
      "text/html": [
       "<div>\n",
       "<style>\n",
       "    .dataframe thead tr:only-child th {\n",
       "        text-align: right;\n",
       "    }\n",
       "\n",
       "    .dataframe thead th {\n",
       "        text-align: left;\n",
       "    }\n",
       "\n",
       "    .dataframe tbody tr th {\n",
       "        vertical-align: top;\n",
       "    }\n",
       "</style>\n",
       "<table border=\"1\" class=\"dataframe\">\n",
       "  <thead>\n",
       "    <tr style=\"text-align: right;\">\n",
       "      <th></th>\n",
       "      <th>team_api_id</th>\n",
       "      <th>team_long_name</th>\n",
       "      <th>team_short_name</th>\n",
       "      <th>date</th>\n",
       "      <th>speed</th>\n",
       "      <th>year</th>\n",
       "      <th>speed_improve</th>\n",
       "    </tr>\n",
       "  </thead>\n",
       "  <tbody>\n",
       "    <tr>\n",
       "      <th>0</th>\n",
       "      <td>9930</td>\n",
       "      <td>FC Aarau</td>\n",
       "      <td>AAR</td>\n",
       "      <td>2010-02-22</td>\n",
       "      <td>60</td>\n",
       "      <td>2010</td>\n",
       "      <td>13</td>\n",
       "    </tr>\n",
       "    <tr>\n",
       "      <th>1</th>\n",
       "      <td>9930</td>\n",
       "      <td>FC Aarau</td>\n",
       "      <td>AAR</td>\n",
       "      <td>2014-09-19</td>\n",
       "      <td>52</td>\n",
       "      <td>2014</td>\n",
       "      <td>13</td>\n",
       "    </tr>\n",
       "    <tr>\n",
       "      <th>2</th>\n",
       "      <td>9930</td>\n",
       "      <td>FC Aarau</td>\n",
       "      <td>AAR</td>\n",
       "      <td>2015-09-10</td>\n",
       "      <td>47</td>\n",
       "      <td>2015</td>\n",
       "      <td>13</td>\n",
       "    </tr>\n",
       "    <tr>\n",
       "      <th>3</th>\n",
       "      <td>8485</td>\n",
       "      <td>Aberdeen</td>\n",
       "      <td>ABE</td>\n",
       "      <td>2010-02-22</td>\n",
       "      <td>70</td>\n",
       "      <td>2010</td>\n",
       "      <td>23</td>\n",
       "    </tr>\n",
       "    <tr>\n",
       "      <th>4</th>\n",
       "      <td>8485</td>\n",
       "      <td>Aberdeen</td>\n",
       "      <td>ABE</td>\n",
       "      <td>2011-02-22</td>\n",
       "      <td>47</td>\n",
       "      <td>2011</td>\n",
       "      <td>23</td>\n",
       "    </tr>\n",
       "  </tbody>\n",
       "</table>\n",
       "</div>"
      ],
      "text/plain": [
       "   team_api_id team_long_name team_short_name       date  speed  year  \\\n",
       "0         9930       FC Aarau             AAR 2010-02-22     60  2010   \n",
       "1         9930       FC Aarau             AAR 2014-09-19     52  2014   \n",
       "2         9930       FC Aarau             AAR 2015-09-10     47  2015   \n",
       "3         8485       Aberdeen             ABE 2010-02-22     70  2010   \n",
       "4         8485       Aberdeen             ABE 2011-02-22     47  2011   \n",
       "\n",
       "   speed_improve  \n",
       "0             13  \n",
       "1             13  \n",
       "2             13  \n",
       "3             23  \n",
       "4             23  "
      ]
     },
     "execution_count": 180,
     "metadata": {},
     "output_type": "execute_result"
    }
   ],
   "source": [
    "# get improved speed of all teams and append it in team table\n",
    "df_t['speed_improve'] = df_t['team_api_id'].apply(lambda t : diff_speed(t))\n",
    "\n",
    "df_t.head()"
   ]
  },
  {
   "cell_type": "code",
   "execution_count": 181,
   "metadata": {},
   "outputs": [],
   "source": [
    "# drop duplicates for better readability\n",
    "df_t.drop_duplicates(subset=['team_api_id'], keep='last', inplace=True)"
   ]
  },
  {
   "cell_type": "code",
   "execution_count": 182,
   "metadata": {},
   "outputs": [
    {
     "data": {
      "text/html": [
       "<div>\n",
       "<style>\n",
       "    .dataframe thead tr:only-child th {\n",
       "        text-align: right;\n",
       "    }\n",
       "\n",
       "    .dataframe thead th {\n",
       "        text-align: left;\n",
       "    }\n",
       "\n",
       "    .dataframe tbody tr th {\n",
       "        vertical-align: top;\n",
       "    }\n",
       "</style>\n",
       "<table border=\"1\" class=\"dataframe\">\n",
       "  <thead>\n",
       "    <tr style=\"text-align: right;\">\n",
       "      <th></th>\n",
       "      <th>team_api_id</th>\n",
       "      <th>team_long_name</th>\n",
       "      <th>team_short_name</th>\n",
       "      <th>date</th>\n",
       "      <th>speed</th>\n",
       "      <th>year</th>\n",
       "      <th>speed_improve</th>\n",
       "    </tr>\n",
       "  </thead>\n",
       "  <tbody>\n",
       "    <tr>\n",
       "      <th>75</th>\n",
       "      <td>9825</td>\n",
       "      <td>Arsenal</td>\n",
       "      <td>ARS</td>\n",
       "      <td>2015-09-10</td>\n",
       "      <td>59</td>\n",
       "      <td>2015</td>\n",
       "      <td>50</td>\n",
       "    </tr>\n",
       "    <tr>\n",
       "      <th>275</th>\n",
       "      <td>208931</td>\n",
       "      <td>Carpi</td>\n",
       "      <td>CAP</td>\n",
       "      <td>2015-09-10</td>\n",
       "      <td>80</td>\n",
       "      <td>2015</td>\n",
       "      <td>48</td>\n",
       "    </tr>\n",
       "    <tr>\n",
       "      <th>220</th>\n",
       "      <td>9788</td>\n",
       "      <td>Borussia Mönchengladbach</td>\n",
       "      <td>GLA</td>\n",
       "      <td>2015-09-10</td>\n",
       "      <td>31</td>\n",
       "      <td>2015</td>\n",
       "      <td>45</td>\n",
       "    </tr>\n",
       "    <tr>\n",
       "      <th>652</th>\n",
       "      <td>8245</td>\n",
       "      <td>Korona Kielce</td>\n",
       "      <td>KKI</td>\n",
       "      <td>2015-09-10</td>\n",
       "      <td>59</td>\n",
       "      <td>2015</td>\n",
       "      <td>45</td>\n",
       "    </tr>\n",
       "    <tr>\n",
       "      <th>1339</th>\n",
       "      <td>10205</td>\n",
       "      <td>Villarreal CF</td>\n",
       "      <td>VIL</td>\n",
       "      <td>2015-09-10</td>\n",
       "      <td>48</td>\n",
       "      <td>2015</td>\n",
       "      <td>44</td>\n",
       "    </tr>\n",
       "  </tbody>\n",
       "</table>\n",
       "</div>"
      ],
      "text/plain": [
       "      team_api_id            team_long_name team_short_name       date  speed  \\\n",
       "75           9825                   Arsenal             ARS 2015-09-10     59   \n",
       "275        208931                     Carpi             CAP 2015-09-10     80   \n",
       "220          9788  Borussia Mönchengladbach             GLA 2015-09-10     31   \n",
       "652          8245             Korona Kielce             KKI 2015-09-10     59   \n",
       "1339        10205             Villarreal CF             VIL 2015-09-10     48   \n",
       "\n",
       "      year  speed_improve  \n",
       "75    2015             50  \n",
       "275   2015             48  \n",
       "220   2015             45  \n",
       "652   2015             45  \n",
       "1339  2015             44  "
      ]
     },
     "execution_count": 182,
     "metadata": {},
     "output_type": "execute_result"
    }
   ],
   "source": [
    "# sort by speed improve in descending order\n",
    "df_t.sort_values('speed_improve', ascending=False, inplace=True)\n",
    "df_t.head(5)"
   ]
  },
  {
   "cell_type": "markdown",
   "metadata": {},
   "source": [
    "The team with the highest improvent in speed is Arsenal with 50"
   ]
  },
  {
   "cell_type": "code",
   "execution_count": 183,
   "metadata": {},
   "outputs": [
    {
     "data": {
      "text/plain": [
       "20.677083333333332"
      ]
     },
     "execution_count": 183,
     "metadata": {},
     "output_type": "execute_result"
    }
   ],
   "source": [
    "# average speed improve for all teams\n",
    "df_t['speed_improve'].mean()"
   ]
  },
  {
   "cell_type": "markdown",
   "metadata": {},
   "source": [
    "<a id='conclusions'></a>\n",
    "## Conclusions\n",
    "\n",
    "1. Who are the players with an overall rating above 90? \n",
    "\n",
    "The players are:\n",
    "\n",
    "    1. Lionel Messi:       94\n",
    "    2. Christiano Ronaldo: 93\n",
    "    2. Gianluigi Buffon:   93\n",
    "    2. Ronaldinho:         93\n",
    "    3. Gregory Coupet:     92\n",
    "    3. Xavi Hernandez:     92\n",
    "    4. Allesandro Nesta:   91\n",
    "    4. Andres Iniesta:     91\n",
    "    4. Fabio Cannavaro:    91\n",
    "    4. Iker Casillas:      91\n",
    "    4. John Terry:         91\n",
    "    4. Ronaldinho:         91\n",
    "    4. Thierry Henry:      91\n",
    "\n",
    "Lionel Messi is the player with the highest overall rating during his carrer.\n",
    "\n",
    "\n",
    "2. Who is the fastest player?\n",
    "\n",
    "There are 2 players with a speed of 97.\n",
    "\n",
    "The players are:\n",
    "\n",
    "David Odonkor\n",
    "Mathis Bolly\n",
    "\n",
    "\n",
    "3. Do right or left feet players have the higher overall rating in the last existing data record?\n",
    "\n",
    "Number of all players prefer left foot: 2687\n",
    "Number of all players prefer right foot: 8373\n",
    "\n",
    "umber of low rated players prefer left foot: 1307\n",
    "Number of high rated players prefer left foot: 1380\n",
    "    \n",
    "Number of low rated players prefer right foot: 4107\n",
    "Number of high rated players prefer right foot: 4266\n",
    "\n",
    "In total:\n",
    "\n",
    "48.64% of low rated players prefer their left foot and\n",
    "49.05% of low rated players prefer their right foot\n",
    "\n",
    "51.36% of high rated players prefer their left foot and\n",
    "50.94% of high rated players prefer their right foot\n",
    "\n",
    "The result shows that more than 0.41% of high rated players prefer their left foot.\n",
    "There are no notable differences to be found between the rating of left or right feet players.\n",
    "\n",
    "\n",
    "4. Who is the highest and smallest player?\n",
    "\n",
    "The heighest player is Kristof van Hout with 208.28 cm\n",
    "The smallest player is Juan Quero with 157.48 cm\n",
    "\n",
    "\n",
    "5. Who is the heaviest and lightest player?\n",
    "\n",
    "The heaviest players are Tim Wiese and Kristof van Hout with 110.22 kg\n",
    "The lighest player is Juan Quero with 53.07 kg\n",
    "\n",
    "\n",
    "6. Who is the player with the longest name?\n",
    "\n",
    "The player with the longest name is Domingos Alexandre Martins da Costa Alex with 40 characters(spaces included)\n",
    "\n",
    "7. Which team has the best increase in speed overall?\n",
    "\n",
    "The team with the highest improvent in speed is Arsenal with 50 points. And the mean improvemt of all teams is 20.68 points."
   ]
  },
  {
   "cell_type": "code",
   "execution_count": 184,
   "metadata": {},
   "outputs": [
    {
     "data": {
      "text/plain": [
       "0"
      ]
     },
     "execution_count": 184,
     "metadata": {},
     "output_type": "execute_result"
    }
   ],
   "source": [
    "from subprocess import call\n",
    "call(['python', '-m', 'nbconvert', 'Investigate_a_Dataset.ipynb'])"
   ]
  }
 ],
 "metadata": {
  "kernelspec": {
   "display_name": "Python 3",
   "language": "python",
   "name": "python3"
  },
  "language_info": {
   "codemirror_mode": {
    "name": "ipython",
    "version": 3
   },
   "file_extension": ".py",
   "mimetype": "text/x-python",
   "name": "python",
   "nbconvert_exporter": "python",
   "pygments_lexer": "ipython3",
   "version": "3.6.3"
  }
 },
 "nbformat": 4,
 "nbformat_minor": 2
}
